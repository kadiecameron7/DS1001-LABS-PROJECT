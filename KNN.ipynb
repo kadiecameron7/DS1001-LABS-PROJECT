{
 "cells": [
  {
   "cell_type": "markdown",
   "id": "1541a9cd",
   "metadata": {},
   "source": [
    "# Week 6: kNN"
   ]
  },
  {
   "cell_type": "markdown",
   "id": "52ef9b95",
   "metadata": {},
   "source": [
    "First, import your libraries!"
   ]
  },
  {
   "cell_type": "code",
   "execution_count": 1,
   "id": "e1df15b2",
   "metadata": {},
   "outputs": [],
   "source": [
    "import pandas as pd\n",
    "import numpy as np\n",
    "from sklearn.model_selection import train_test_split\n",
    "from sklearn.neighbors import KNeighborsClassifier\n",
    "from sklearn import preprocessing\n",
    "from matplotlib import pyplot as plt"
   ]
  },
  {
   "cell_type": "markdown",
   "id": "49aeaeb4",
   "metadata": {},
   "source": [
    "## Data prep"
   ]
  },
  {
   "cell_type": "markdown",
   "id": "f9668f69",
   "metadata": {},
   "source": [
    "Based on the following data summary, what questions and business metric should we use? "
   ]
  },
  {
   "cell_type": "code",
   "execution_count": 2,
   "id": "1de9ed08",
   "metadata": {},
   "outputs": [
    {
     "name": "stdout",
     "output_type": "stream",
     "text": [
      "<class 'pandas.core.frame.DataFrame'>\n",
      "RangeIndex: 43628 entries, 0 to 43627\n",
      "Data columns (total 14 columns):\n",
      " #   Column     Non-Null Count  Dtype \n",
      "---  ------     --------------  ----- \n",
      " 0   age        43628 non-null  int64 \n",
      " 1   job        43628 non-null  object\n",
      " 2   marital    43628 non-null  object\n",
      " 3   education  43628 non-null  object\n",
      " 4   default    43628 non-null  object\n",
      " 5   balance    43628 non-null  int64 \n",
      " 6   housing    43628 non-null  object\n",
      " 7   contact    43628 non-null  object\n",
      " 8   duration   43628 non-null  int64 \n",
      " 9   campaign   43628 non-null  int64 \n",
      " 10  pdays      43628 non-null  int64 \n",
      " 11  previous   43628 non-null  int64 \n",
      " 12  poutcome   43628 non-null  object\n",
      " 13  signed up  43628 non-null  int64 \n",
      "dtypes: int64(7), object(7)\n",
      "memory usage: 4.7+ MB\n"
     ]
    }
   ],
   "source": [
    "bank_data = pd.read_csv(\"https://raw.githubusercontent.com/UVADS/DS-3001/main/data/bank.csv\")\n",
    "bank_data.info()"
   ]
  },
  {
   "cell_type": "markdown",
   "id": "8e0154f4",
   "metadata": {},
   "source": [
    "Now, let's check the composition of the data."
   ]
  },
  {
   "cell_type": "code",
   "execution_count": 3,
   "id": "c533699e",
   "metadata": {},
   "outputs": [
    {
     "data": {
      "text/plain": [
       "marital\n",
       "married     26241\n",
       "single      12355\n",
       "divorced     5032\n",
       "Name: count, dtype: int64"
      ]
     },
     "execution_count": 3,
     "metadata": {},
     "output_type": "execute_result"
    }
   ],
   "source": [
    "bank_data.marital.value_counts()   # 3 levels"
   ]
  },
  {
   "cell_type": "code",
   "execution_count": 4,
   "id": "c41bb1f2",
   "metadata": {},
   "outputs": [
    {
     "data": {
      "text/plain": [
       "education\n",
       "secondary    22404\n",
       "tertiary     12863\n",
       "primary       6584\n",
       "unknown       1777\n",
       "Name: count, dtype: int64"
      ]
     },
     "execution_count": 4,
     "metadata": {},
     "output_type": "execute_result"
    }
   ],
   "source": [
    "bank_data.education.value_counts()   # 4 levels"
   ]
  },
  {
   "cell_type": "code",
   "execution_count": 5,
   "id": "913c0e69",
   "metadata": {},
   "outputs": [
    {
     "data": {
      "text/plain": [
       "default\n",
       "no     42844\n",
       "yes      784\n",
       "Name: count, dtype: int64"
      ]
     },
     "execution_count": 5,
     "metadata": {},
     "output_type": "execute_result"
    }
   ],
   "source": [
    "bank_data.default.value_counts()   # 2 levels"
   ]
  },
  {
   "cell_type": "code",
   "execution_count": 6,
   "id": "319a9caf",
   "metadata": {},
   "outputs": [
    {
     "data": {
      "text/plain": [
       "job\n",
       "blue-collar      9366\n",
       "management       9142\n",
       "technician       7321\n",
       "admin.           5001\n",
       "services         4010\n",
       "retired          2184\n",
       "self-employed    1530\n",
       "entrepreneur     1433\n",
       "unemployed       1259\n",
       "housemaid        1199\n",
       "student           907\n",
       "unknown           276\n",
       "Name: count, dtype: int64"
      ]
     },
     "execution_count": 6,
     "metadata": {},
     "output_type": "execute_result"
    }
   ],
   "source": [
    "bank_data.job.value_counts()   # 12 levels! What should we do?"
   ]
  },
  {
   "cell_type": "code",
   "execution_count": 7,
   "id": "42620d81",
   "metadata": {},
   "outputs": [
    {
     "data": {
      "text/plain": [
       "contact\n",
       "cellular     28295\n",
       "unknown      12523\n",
       "telephone     2810\n",
       "Name: count, dtype: int64"
      ]
     },
     "execution_count": 7,
     "metadata": {},
     "output_type": "execute_result"
    }
   ],
   "source": [
    "bank_data.contact.value_counts()   # 3 levels -- difference between cellular and telephone?"
   ]
  },
  {
   "cell_type": "code",
   "execution_count": 8,
   "id": "58d6d0dc",
   "metadata": {},
   "outputs": [
    {
     "data": {
      "text/plain": [
       "housing\n",
       "yes    24231\n",
       "no     19397\n",
       "Name: count, dtype: int64"
      ]
     },
     "execution_count": 8,
     "metadata": {},
     "output_type": "execute_result"
    }
   ],
   "source": [
    "bank_data.housing.value_counts()   # 2 levels"
   ]
  },
  {
   "cell_type": "code",
   "execution_count": 9,
   "id": "8943c38b",
   "metadata": {},
   "outputs": [
    {
     "data": {
      "text/plain": [
       "poutcome\n",
       "unknown    35684\n",
       "failure     4723\n",
       "other       1783\n",
       "success     1438\n",
       "Name: count, dtype: int64"
      ]
     },
     "execution_count": 9,
     "metadata": {},
     "output_type": "execute_result"
    }
   ],
   "source": [
    "bank_data.poutcome.value_counts()   # 4 levels"
   ]
  },
  {
   "cell_type": "code",
   "execution_count": 10,
   "id": "47b7d721",
   "metadata": {},
   "outputs": [
    {
     "data": {
      "text/plain": [
       "signed up\n",
       "0    38554\n",
       "1     5074\n",
       "Name: count, dtype: int64"
      ]
     },
     "execution_count": 10,
     "metadata": {},
     "output_type": "execute_result"
    }
   ],
   "source": [
    "bank_data['signed up'].value_counts()   # 2 levels"
   ]
  },
  {
   "cell_type": "markdown",
   "id": "2433686a",
   "metadata": {},
   "source": [
    "We should collapse the variable with 12 levels. "
   ]
  },
  {
   "cell_type": "code",
   "execution_count": 11,
   "id": "f17c6328",
   "metadata": {},
   "outputs": [
    {
     "data": {
      "text/plain": [
       "job\n",
       "Employed      34001\n",
       "Unemployed     9627\n",
       "Name: count, dtype: int64"
      ]
     },
     "execution_count": 11,
     "metadata": {},
     "output_type": "execute_result"
    }
   ],
   "source": [
    "employed = ['admin', 'blue-collar', 'entrepreneur', 'housemaid', 'management',\n",
    "           'self-employed', 'services', 'technician']\n",
    "# unemployed = ['student', 'unemployed', 'unknown']\n",
    "bank_data.job = bank_data.job.apply(lambda x: \"Employed\" if x in employed else \"Unemployed\")\n",
    "bank_data.job.value_counts()"
   ]
  },
  {
   "cell_type": "markdown",
   "id": "d9f3fdea",
   "metadata": {},
   "source": [
    "### What is happening above?\n",
    "1. What is \"employed\" (variable type)? \n",
    "2. What is bank_data.job, why the .job?\n",
    "3. What is .apply(lambda x: \"Employed\" if x in employed else \"Unemployed\") doing? "
   ]
  },
  {
   "cell_type": "markdown",
   "id": "ca373baf",
   "metadata": {},
   "source": [
    "Now, we convert the appropriate columns to factors."
   ]
  },
  {
   "cell_type": "code",
   "execution_count": 12,
   "id": "7d9d7a5f",
   "metadata": {},
   "outputs": [
    {
     "name": "stdout",
     "output_type": "stream",
     "text": [
      "<class 'pandas.core.frame.DataFrame'>\n",
      "RangeIndex: 43628 entries, 0 to 43627\n",
      "Data columns (total 14 columns):\n",
      " #   Column     Non-Null Count  Dtype   \n",
      "---  ------     --------------  -----   \n",
      " 0   age        43628 non-null  int64   \n",
      " 1   job        43628 non-null  category\n",
      " 2   marital    43628 non-null  category\n",
      " 3   education  43628 non-null  category\n",
      " 4   default    43628 non-null  category\n",
      " 5   balance    43628 non-null  int64   \n",
      " 6   housing    43628 non-null  category\n",
      " 7   contact    43628 non-null  category\n",
      " 8   duration   43628 non-null  int64   \n",
      " 9   campaign   43628 non-null  int64   \n",
      " 10  pdays      43628 non-null  int64   \n",
      " 11  previous   43628 non-null  int64   \n",
      " 12  poutcome   43628 non-null  category\n",
      " 13  signed up  43628 non-null  category\n",
      "dtypes: category(8), int64(6)\n",
      "memory usage: 2.3 MB\n"
     ]
    }
   ],
   "source": [
    "# bank_data.info()   # check the variables\n",
    "cat = ['job', 'marital', 'education', 'default', 'housing', 'contact',\n",
    "      'poutcome', 'signed up']   # select the columns to convert\n",
    "bank_data[cat] = bank_data[cat].astype('category')\n",
    "bank_data.info()"
   ]
  },
  {
   "cell_type": "markdown",
   "id": "fac00691",
   "metadata": {},
   "source": [
    "### Type out what is happening in the cell above\n",
    "1. cat = [] is creating a....\n",
    "2. bank_data[cat] is....\n",
    "3. bank_data[cat].astype('category') is...\n",
    "4. bank_data.info() helps us...."
   ]
  },
  {
   "cell_type": "markdown",
   "id": "66ec7aae",
   "metadata": {},
   "source": [
    "### Check for missing data"
   ]
  },
  {
   "cell_type": "markdown",
   "id": "7736b325",
   "metadata": {},
   "source": [
    "Using the seaborn package, we can see the distribution of missing values. Along the x-axis, you will see the proportion of the data missing for that variable."
   ]
  },
  {
   "cell_type": "code",
   "execution_count": 13,
   "id": "770b3e2d",
   "metadata": {},
   "outputs": [
    {
     "data": {
      "text/plain": [
       "<seaborn.axisgrid.FacetGrid at 0x704d8a3f3950>"
      ]
     },
     "execution_count": 13,
     "metadata": {},
     "output_type": "execute_result"
    },
    {
     "data": {
      "image/png": "[encoded data removed]",
      "text/plain": [
       "<Figure size 709.875x500 with 1 Axes>"
      ]
     },
     "metadata": {},
     "output_type": "display_data"
    }
   ],
   "source": [
    "import seaborn as sns\n",
    "sns.displot(\n",
    "    data=bank_data.isna().melt(value_name=\"missing\"),\n",
    "    y=\"variable\",\n",
    "    hue=\"missing\",\n",
    "    multiple=\"fill\",\n",
    "    aspect=1.25\n",
    ")\n",
    "# plt.savefig(\"visualizing_missing_data_with_barplot_Seaborn_distplot.png\", dpi=100)\n",
    "# the above line will same the image to your computer!"
   ]
  },
  {
   "cell_type": "markdown",
   "id": "e910aa19",
   "metadata": {},
   "source": [
    "**No missing data!!**"
   ]
  },
  {
   "cell_type": "markdown",
   "id": "85b26a48",
   "metadata": {},
   "source": [
    "Next, we normalize the numeric variables."
   ]
  },
  {
   "cell_type": "code",
   "execution_count": 14,
   "id": "93e80afc",
   "metadata": {},
   "outputs": [
    {
     "name": "stdout",
     "output_type": "stream",
     "text": [
      "Index(['age', 'balance', 'duration', 'campaign', 'pdays', 'previous'], dtype='object')\n"
     ]
    }
   ],
   "source": [
    "numeric_cols = bank_data.select_dtypes(include='int64').columns\n",
    "print(numeric_cols)\n",
    "# what is going to be the output?"
   ]
  },
  {
   "cell_type": "code",
   "execution_count": 15,
   "id": "cdc9a82f",
   "metadata": {},
   "outputs": [],
   "source": [
    "\n",
    "scaler = preprocessing.MinMaxScaler()\n",
    "d = scaler.fit_transform(bank_data[numeric_cols])  \n",
    "scaled_df = pd.DataFrame(d, columns=numeric_cols)  \n",
    "bank_data[numeric_cols] = scaled_df  "
   ]
  },
  {
   "cell_type": "markdown",
   "id": "8cd48135",
   "metadata": {},
   "source": [
    "### Again type out what is happening in the chunk above\n",
    "1. what is \"scaler\"\n",
    "2. what is scaler.fit_transform doing?\n",
    "3. why is (bank_data[numeric_cols])\n",
    "4. What is the third line doing?\n",
    "5. What is the last line doing?\n",
    "6. How could we improve this code?"
   ]
  },
  {
   "cell_type": "code",
   "execution_count": 16,
   "id": "c9f403a1",
   "metadata": {},
   "outputs": [
    {
     "data": {
      "text/html": [
       "<div>\n",
       "<style scoped>\n",
       "    .dataframe tbody tr th:only-of-type {\n",
       "        vertical-align: middle;\n",
       "    }\n",
       "\n",
       "    .dataframe tbody tr th {\n",
       "        vertical-align: top;\n",
       "    }\n",
       "\n",
       "    .dataframe thead th {\n",
       "        text-align: right;\n",
       "    }\n",
       "</style>\n",
       "<table border=\"1\" class=\"dataframe\">\n",
       "  <thead>\n",
       "    <tr style=\"text-align: right;\">\n",
       "      <th></th>\n",
       "      <th>age</th>\n",
       "      <th>balance</th>\n",
       "      <th>duration</th>\n",
       "      <th>campaign</th>\n",
       "      <th>pdays</th>\n",
       "      <th>previous</th>\n",
       "    </tr>\n",
       "  </thead>\n",
       "  <tbody>\n",
       "    <tr>\n",
       "      <th>0</th>\n",
       "      <td>0.324675</td>\n",
       "      <td>0.073384</td>\n",
       "      <td>0.046767</td>\n",
       "      <td>0.016129</td>\n",
       "      <td>0.000000</td>\n",
       "      <td>0.000000</td>\n",
       "    </tr>\n",
       "    <tr>\n",
       "      <th>1</th>\n",
       "      <td>0.727273</td>\n",
       "      <td>0.123091</td>\n",
       "      <td>0.051444</td>\n",
       "      <td>0.016129</td>\n",
       "      <td>0.208716</td>\n",
       "      <td>0.003636</td>\n",
       "    </tr>\n",
       "    <tr>\n",
       "      <th>2</th>\n",
       "      <td>0.194805</td>\n",
       "      <td>0.076190</td>\n",
       "      <td>0.078081</td>\n",
       "      <td>0.000000</td>\n",
       "      <td>0.000000</td>\n",
       "      <td>0.000000</td>\n",
       "    </tr>\n",
       "    <tr>\n",
       "      <th>3</th>\n",
       "      <td>0.246753</td>\n",
       "      <td>0.081283</td>\n",
       "      <td>0.052460</td>\n",
       "      <td>0.016129</td>\n",
       "      <td>0.000000</td>\n",
       "      <td>0.000000</td>\n",
       "    </tr>\n",
       "    <tr>\n",
       "      <th>4</th>\n",
       "      <td>0.155844</td>\n",
       "      <td>0.072812</td>\n",
       "      <td>0.014030</td>\n",
       "      <td>0.322581</td>\n",
       "      <td>0.000000</td>\n",
       "      <td>0.000000</td>\n",
       "    </tr>\n",
       "  </tbody>\n",
       "</table>\n",
       "</div>"
      ],
      "text/plain": [
       "        age   balance  duration  campaign     pdays  previous\n",
       "0  0.324675  0.073384  0.046767  0.016129  0.000000  0.000000\n",
       "1  0.727273  0.123091  0.051444  0.016129  0.208716  0.003636\n",
       "2  0.194805  0.076190  0.078081  0.000000  0.000000  0.000000\n",
       "3  0.246753  0.081283  0.052460  0.016129  0.000000  0.000000\n",
       "4  0.155844  0.072812  0.014030  0.322581  0.000000  0.000000"
      ]
     },
     "execution_count": 16,
     "metadata": {},
     "output_type": "execute_result"
    }
   ],
   "source": [
    "scaler = preprocessing.MinMaxScaler()\n",
    "bank_data[numeric_cols] = scaler.fit_transform(bank_data[numeric_cols])\n",
    "bank_data[numeric_cols].head()\n",
    "# no intermediate variables needed!"
   ]
  },
  {
   "cell_type": "markdown",
   "id": "61b46778",
   "metadata": {},
   "source": [
    "### Let's take a look at all the different objects we have created\n",
    "1. Dataframe \n",
    "2. list\n",
    "3. ndarray\n",
    "4. Index\n",
    "5. MinMaxScaler\n",
    "\n",
    "What's the difference "
   ]
  },
  {
   "cell_type": "markdown",
   "id": "b7eea4bd",
   "metadata": {},
   "source": [
    "Now, we onehot encode the data -- for reference, this is the process of converting categorical variables to a usable form for a machine learning algorithm."
   ]
  },
  {
   "cell_type": "code",
   "execution_count": 17,
   "id": "53f6bf4c",
   "metadata": {},
   "outputs": [],
   "source": [
    "#cat_cols = bank_data.select_dtypes(include='category').columns\n",
    "#print(cat_cols)"
   ]
  },
  {
   "cell_type": "code",
   "execution_count": 18,
   "id": "248f74a5",
   "metadata": {},
   "outputs": [],
   "source": [
    "#this is for the mult-layer case, factors that have more than two levels\n",
    "cat_cols = pd.Index(['marital', 'education', 'contact', 'poutcome'])"
   ]
  },
  {
   "cell_type": "code",
   "execution_count": 19,
   "id": "cbd73eb5",
   "metadata": {},
   "outputs": [
    {
     "data": {
      "text/html": [
       "<div>\n",
       "<style scoped>\n",
       "    .dataframe tbody tr th:only-of-type {\n",
       "        vertical-align: middle;\n",
       "    }\n",
       "\n",
       "    .dataframe tbody tr th {\n",
       "        vertical-align: top;\n",
       "    }\n",
       "\n",
       "    .dataframe thead th {\n",
       "        text-align: right;\n",
       "    }\n",
       "</style>\n",
       "<table border=\"1\" class=\"dataframe\">\n",
       "  <thead>\n",
       "    <tr style=\"text-align: right;\">\n",
       "      <th></th>\n",
       "      <th>marital_divorced</th>\n",
       "      <th>marital_married</th>\n",
       "      <th>marital_single</th>\n",
       "      <th>education_primary</th>\n",
       "      <th>education_secondary</th>\n",
       "      <th>education_tertiary</th>\n",
       "      <th>education_unknown</th>\n",
       "      <th>contact_cellular</th>\n",
       "      <th>contact_telephone</th>\n",
       "      <th>contact_unknown</th>\n",
       "      <th>poutcome_failure</th>\n",
       "      <th>poutcome_other</th>\n",
       "      <th>poutcome_success</th>\n",
       "      <th>poutcome_unknown</th>\n",
       "    </tr>\n",
       "  </thead>\n",
       "  <tbody>\n",
       "    <tr>\n",
       "      <th>0</th>\n",
       "      <td>False</td>\n",
       "      <td>True</td>\n",
       "      <td>False</td>\n",
       "      <td>False</td>\n",
       "      <td>False</td>\n",
       "      <td>True</td>\n",
       "      <td>False</td>\n",
       "      <td>False</td>\n",
       "      <td>False</td>\n",
       "      <td>True</td>\n",
       "      <td>False</td>\n",
       "      <td>False</td>\n",
       "      <td>False</td>\n",
       "      <td>True</td>\n",
       "    </tr>\n",
       "    <tr>\n",
       "      <th>1</th>\n",
       "      <td>False</td>\n",
       "      <td>True</td>\n",
       "      <td>False</td>\n",
       "      <td>True</td>\n",
       "      <td>False</td>\n",
       "      <td>False</td>\n",
       "      <td>False</td>\n",
       "      <td>True</td>\n",
       "      <td>False</td>\n",
       "      <td>False</td>\n",
       "      <td>False</td>\n",
       "      <td>False</td>\n",
       "      <td>True</td>\n",
       "      <td>False</td>\n",
       "    </tr>\n",
       "    <tr>\n",
       "      <th>2</th>\n",
       "      <td>False</td>\n",
       "      <td>True</td>\n",
       "      <td>False</td>\n",
       "      <td>False</td>\n",
       "      <td>False</td>\n",
       "      <td>True</td>\n",
       "      <td>False</td>\n",
       "      <td>True</td>\n",
       "      <td>False</td>\n",
       "      <td>False</td>\n",
       "      <td>False</td>\n",
       "      <td>False</td>\n",
       "      <td>False</td>\n",
       "      <td>True</td>\n",
       "    </tr>\n",
       "    <tr>\n",
       "      <th>3</th>\n",
       "      <td>False</td>\n",
       "      <td>True</td>\n",
       "      <td>False</td>\n",
       "      <td>False</td>\n",
       "      <td>True</td>\n",
       "      <td>False</td>\n",
       "      <td>False</td>\n",
       "      <td>False</td>\n",
       "      <td>False</td>\n",
       "      <td>True</td>\n",
       "      <td>False</td>\n",
       "      <td>False</td>\n",
       "      <td>False</td>\n",
       "      <td>True</td>\n",
       "    </tr>\n",
       "    <tr>\n",
       "      <th>4</th>\n",
       "      <td>False</td>\n",
       "      <td>True</td>\n",
       "      <td>False</td>\n",
       "      <td>False</td>\n",
       "      <td>False</td>\n",
       "      <td>True</td>\n",
       "      <td>False</td>\n",
       "      <td>True</td>\n",
       "      <td>False</td>\n",
       "      <td>False</td>\n",
       "      <td>False</td>\n",
       "      <td>False</td>\n",
       "      <td>False</td>\n",
       "      <td>True</td>\n",
       "    </tr>\n",
       "  </tbody>\n",
       "</table>\n",
       "</div>"
      ],
      "text/plain": [
       "   marital_divorced  marital_married  marital_single  education_primary  \\\n",
       "0             False             True           False              False   \n",
       "1             False             True           False               True   \n",
       "2             False             True           False              False   \n",
       "3             False             True           False              False   \n",
       "4             False             True           False              False   \n",
       "\n",
       "   education_secondary  education_tertiary  education_unknown  \\\n",
       "0                False                True              False   \n",
       "1                False               False              False   \n",
       "2                False                True              False   \n",
       "3                 True               False              False   \n",
       "4                False                True              False   \n",
       "\n",
       "   contact_cellular  contact_telephone  contact_unknown  poutcome_failure  \\\n",
       "0             False              False             True             False   \n",
       "1              True              False            False             False   \n",
       "2              True              False            False             False   \n",
       "3             False              False             True             False   \n",
       "4              True              False            False             False   \n",
       "\n",
       "   poutcome_other  poutcome_success  poutcome_unknown  \n",
       "0           False             False              True  \n",
       "1           False              True             False  \n",
       "2           False             False              True  \n",
       "3           False             False              True  \n",
       "4           False             False              True  "
      ]
     },
     "execution_count": 19,
     "metadata": {},
     "output_type": "execute_result"
    }
   ],
   "source": [
    "encoded = pd.get_dummies(bank_data[cat_cols])\n",
    "encoded.head()   # note the new columns"
   ]
  },
  {
   "cell_type": "code",
   "execution_count": 20,
   "id": "17641d6e",
   "metadata": {},
   "outputs": [],
   "source": [
    "bank_data = bank_data.drop(cat_cols, axis=1)"
   ]
  },
  {
   "cell_type": "code",
   "execution_count": 21,
   "id": "cd15b932",
   "metadata": {},
   "outputs": [],
   "source": [
    "bank_data = bank_data.join(encoded)"
   ]
  },
  {
   "cell_type": "code",
   "execution_count": 22,
   "id": "8788b014",
   "metadata": {},
   "outputs": [],
   "source": [
    "# Recode 'job' and 'default' to binary (1/0) across the DataFrame, why are we doing this? \n",
    "\n",
    "job_map = {'Employed': 1, 'Unemployed': 0}\n",
    "default_map = {'yes': 1, 'no': 0}\n",
    "housing_map = {'yes': 1, 'no': 0}\n",
    "\n",
    "# Recode in the main dataframe\n",
    "bank_data['job'] = bank_data['job'].map(job_map).astype('int8')\n",
    "bank_data['default'] = bank_data['default'].map(default_map).astype('int8')\n",
    "bank_data['housing'] = bank_data['housing'].map(housing_map).astype('int8')"
   ]
  },
  {
   "cell_type": "code",
   "execution_count": 23,
   "id": "de91fc00",
   "metadata": {},
   "outputs": [
    {
     "name": "stdout",
     "output_type": "stream",
     "text": [
      "<class 'pandas.core.frame.DataFrame'>\n",
      "RangeIndex: 43628 entries, 0 to 43627\n",
      "Data columns (total 24 columns):\n",
      " #   Column               Non-Null Count  Dtype   \n",
      "---  ------               --------------  -----   \n",
      " 0   age                  43628 non-null  float64 \n",
      " 1   job                  43628 non-null  int8    \n",
      " 2   default              43628 non-null  int8    \n",
      " 3   balance              43628 non-null  float64 \n",
      " 4   housing              43628 non-null  int8    \n",
      " 5   duration             43628 non-null  float64 \n",
      " 6   campaign             43628 non-null  float64 \n",
      " 7   pdays                43628 non-null  float64 \n",
      " 8   previous             43628 non-null  float64 \n",
      " 9   signed up            43628 non-null  category\n",
      " 10  marital_divorced     43628 non-null  bool    \n",
      " 11  marital_married      43628 non-null  bool    \n",
      " 12  marital_single       43628 non-null  bool    \n",
      " 13  education_primary    43628 non-null  bool    \n",
      " 14  education_secondary  43628 non-null  bool    \n",
      " 15  education_tertiary   43628 non-null  bool    \n",
      " 16  education_unknown    43628 non-null  bool    \n",
      " 17  contact_cellular     43628 non-null  bool    \n",
      " 18  contact_telephone    43628 non-null  bool    \n",
      " 19  contact_unknown      43628 non-null  bool    \n",
      " 20  poutcome_failure     43628 non-null  bool    \n",
      " 21  poutcome_other       43628 non-null  bool    \n",
      " 22  poutcome_success     43628 non-null  bool    \n",
      " 23  poutcome_unknown     43628 non-null  bool    \n",
      "dtypes: bool(14), category(1), float64(6), int8(3)\n",
      "memory usage: 2.7 MB\n"
     ]
    }
   ],
   "source": [
    "bank_data.info()"
   ]
  },
  {
   "cell_type": "markdown",
   "id": "9cace7d8",
   "metadata": {},
   "source": [
    "The data is ready! Now, let's build our model.\n",
    "\n",
    "## Train model\n",
    "\n",
    "We'll run the kNN algorithm on the banking data. First, we'll check the prevalence of the target class."
   ]
  },
  {
   "cell_type": "code",
   "execution_count": 24,
   "id": "79e86115",
   "metadata": {},
   "outputs": [
    {
     "data": {
      "text/plain": [
       "np.float64(0.11630145777940772)"
      ]
     },
     "execution_count": 24,
     "metadata": {},
     "output_type": "execute_result"
    }
   ],
   "source": [
    "bank_data['signed up'].value_counts()[1] / bank_data['signed up'].count()"
   ]
  },
  {
   "cell_type": "markdown",
   "id": "ad4fd681",
   "metadata": {},
   "source": [
    "This means that at random, we have an 11.6% chance of correctly picking a subscribed individual. Let's see if kNN can do any better."
   ]
  },
  {
   "cell_type": "code",
   "execution_count": 25,
   "id": "c0b946a3",
   "metadata": {},
   "outputs": [],
   "source": [
    "\"\"\"\n",
    "X = bank_data.drop(['signed up_1'], axis=1).values   # independent variables\n",
    "y = bank_data['signed up_1'].values                  # dependent variable\n",
    "\"\"\"\n",
    "\n",
    "train, test = train_test_split(bank_data,  test_size=0.4, stratify = bank_data['signed up']) "
   ]
  },
  {
   "cell_type": "code",
   "execution_count": 26,
   "id": "149df56f",
   "metadata": {},
   "outputs": [],
   "source": [
    "test, val = train_test_split(test, test_size=0.5, stratify=test['signed up'])"
   ]
  },
  {
   "cell_type": "markdown",
   "id": "cc1a839d",
   "metadata": {},
   "source": [
    "Now, let's train the classifier for k=9."
   ]
  },
  {
   "cell_type": "code",
   "execution_count": 27,
   "id": "713945dd",
   "metadata": {},
   "outputs": [
    {
     "data": {
      "text/html": [
       "<style>#sk-container-id-1 {\n",
       "  /* Definition of color scheme common for light and dark mode */\n",
       "  --sklearn-color-text: #000;\n",
       "  --sklearn-color-text-muted: #666;\n",
       "  --sklearn-color-line: gray;\n",
       "  /* Definition of color scheme for unfitted estimators */\n",
       "  --sklearn-color-unfitted-level-0: #fff5e6;\n",
       "  --sklearn-color-unfitted-level-1: #f6e4d2;\n",
       "  --sklearn-color-unfitted-level-2: #ffe0b3;\n",
       "  --sklearn-color-unfitted-level-3: chocolate;\n",
       "  /* Definition of color scheme for fitted estimators */\n",
       "  --sklearn-color-fitted-level-0: #f0f8ff;\n",
       "  --sklearn-color-fitted-level-1: #d4ebff;\n",
       "  --sklearn-color-fitted-level-2: #b3dbfd;\n",
       "  --sklearn-color-fitted-level-3: cornflowerblue;\n",
       "\n",
       "  /* Specific color for light theme */\n",
       "  --sklearn-color-text-on-default-background: var(--sg-text-color, var(--theme-code-foreground, var(--jp-content-font-color1, black)));\n",
       "  --sklearn-color-background: var(--sg-background-color, var(--theme-background, var(--jp-layout-color0, white)));\n",
       "  --sklearn-color-border-box: var(--sg-text-color, var(--theme-code-foreground, var(--jp-content-font-color1, black)));\n",
       "  --sklearn-color-icon: #696969;\n",
       "\n",
       "  @media (prefers-color-scheme: dark) {\n",
       "    /* Redefinition of color scheme for dark theme */\n",
       "    --sklearn-color-text-on-default-background: var(--sg-text-color, var(--theme-code-foreground, var(--jp-content-font-color1, white)));\n",
       "    --sklearn-color-background: var(--sg-background-color, var(--theme-background, var(--jp-layout-color0, #111)));\n",
       "    --sklearn-color-border-box: var(--sg-text-color, var(--theme-code-foreground, var(--jp-content-font-color1, white)));\n",
       "    --sklearn-color-icon: #878787;\n",
       "  }\n",
       "}\n",
       "\n",
       "#sk-container-id-1 {\n",
       "  color: var(--sklearn-color-text);\n",
       "}\n",
       "\n",
       "#sk-container-id-1 pre {\n",
       "  padding: 0;\n",
       "}\n",
       "\n",
       "#sk-container-id-1 input.sk-hidden--visually {\n",
       "  border: 0;\n",
       "  clip: rect(1px 1px 1px 1px);\n",
       "  clip: rect(1px, 1px, 1px, 1px);\n",
       "  height: 1px;\n",
       "  margin: -1px;\n",
       "  overflow: hidden;\n",
       "  padding: 0;\n",
       "  position: absolute;\n",
       "  width: 1px;\n",
       "}\n",
       "\n",
       "#sk-container-id-1 div.sk-dashed-wrapped {\n",
       "  border: 1px dashed var(--sklearn-color-line);\n",
       "  margin: 0 0.4em 0.5em 0.4em;\n",
       "  box-sizing: border-box;\n",
       "  padding-bottom: 0.4em;\n",
       "  background-color: var(--sklearn-color-background);\n",
       "}\n",
       "\n",
       "#sk-container-id-1 div.sk-container {\n",
       "  /* jupyter's `normalize.less` sets `[hidden] { display: none; }`\n",
       "     but bootstrap.min.css set `[hidden] { display: none !important; }`\n",
       "     so we also need the `!important` here to be able to override the\n",
       "     default hidden behavior on the sphinx rendered scikit-learn.org.\n",
       "     See: https://github.com/scikit-learn/scikit-learn/issues/21755 */\n",
       "  display: inline-block !important;\n",
       "  position: relative;\n",
       "}\n",
       "\n",
       "#sk-container-id-1 div.sk-text-repr-fallback {\n",
       "  display: none;\n",
       "}\n",
       "\n",
       "div.sk-parallel-item,\n",
       "div.sk-serial,\n",
       "div.sk-item {\n",
       "  /* draw centered vertical line to link estimators */\n",
       "  background-image: linear-gradient(var(--sklearn-color-text-on-default-background), var(--sklearn-color-text-on-default-background));\n",
       "  background-size: 2px 100%;\n",
       "  background-repeat: no-repeat;\n",
       "  background-position: center center;\n",
       "}\n",
       "\n",
       "/* Parallel-specific style estimator block */\n",
       "\n",
       "#sk-container-id-1 div.sk-parallel-item::after {\n",
       "  content: \"\";\n",
       "  width: 100%;\n",
       "  border-bottom: 2px solid var(--sklearn-color-text-on-default-background);\n",
       "  flex-grow: 1;\n",
       "}\n",
       "\n",
       "#sk-container-id-1 div.sk-parallel {\n",
       "  display: flex;\n",
       "  align-items: stretch;\n",
       "  justify-content: center;\n",
       "  background-color: var(--sklearn-color-background);\n",
       "  position: relative;\n",
       "}\n",
       "\n",
       "#sk-container-id-1 div.sk-parallel-item {\n",
       "  display: flex;\n",
       "  flex-direction: column;\n",
       "}\n",
       "\n",
       "#sk-container-id-1 div.sk-parallel-item:first-child::after {\n",
       "  align-self: flex-end;\n",
       "  width: 50%;\n",
       "}\n",
       "\n",
       "#sk-container-id-1 div.sk-parallel-item:last-child::after {\n",
       "  align-self: flex-start;\n",
       "  width: 50%;\n",
       "}\n",
       "\n",
       "#sk-container-id-1 div.sk-parallel-item:only-child::after {\n",
       "  width: 0;\n",
       "}\n",
       "\n",
       "/* Serial-specific style estimator block */\n",
       "\n",
       "#sk-container-id-1 div.sk-serial {\n",
       "  display: flex;\n",
       "  flex-direction: column;\n",
       "  align-items: center;\n",
       "  background-color: var(--sklearn-color-background);\n",
       "  padding-right: 1em;\n",
       "  padding-left: 1em;\n",
       "}\n",
       "\n",
       "\n",
       "/* Toggleable style: style used for estimator/Pipeline/ColumnTransformer box that is\n",
       "clickable and can be expanded/collapsed.\n",
       "- Pipeline and ColumnTransformer use this feature and define the default style\n",
       "- Estimators will overwrite some part of the style using the `sk-estimator` class\n",
       "*/\n",
       "\n",
       "/* Pipeline and ColumnTransformer style (default) */\n",
       "\n",
       "#sk-container-id-1 div.sk-toggleable {\n",
       "  /* Default theme specific background. It is overwritten whether we have a\n",
       "  specific estimator or a Pipeline/ColumnTransformer */\n",
       "  background-color: var(--sklearn-color-background);\n",
       "}\n",
       "\n",
       "/* Toggleable label */\n",
       "#sk-container-id-1 label.sk-toggleable__label {\n",
       "  cursor: pointer;\n",
       "  display: flex;\n",
       "  width: 100%;\n",
       "  margin-bottom: 0;\n",
       "  padding: 0.5em;\n",
       "  box-sizing: border-box;\n",
       "  text-align: center;\n",
       "  align-items: start;\n",
       "  justify-content: space-between;\n",
       "  gap: 0.5em;\n",
       "}\n",
       "\n",
       "#sk-container-id-1 label.sk-toggleable__label .caption {\n",
       "  font-size: 0.6rem;\n",
       "  font-weight: lighter;\n",
       "  color: var(--sklearn-color-text-muted);\n",
       "}\n",
       "\n",
       "#sk-container-id-1 label.sk-toggleable__label-arrow:before {\n",
       "  /* Arrow on the left of the label */\n",
       "  content: \"▸\";\n",
       "  float: left;\n",
       "  margin-right: 0.25em;\n",
       "  color: var(--sklearn-color-icon);\n",
       "}\n",
       "\n",
       "#sk-container-id-1 label.sk-toggleable__label-arrow:hover:before {\n",
       "  color: var(--sklearn-color-text);\n",
       "}\n",
       "\n",
       "/* Toggleable content - dropdown */\n",
       "\n",
       "#sk-container-id-1 div.sk-toggleable__content {\n",
       "  display: none;\n",
       "  text-align: left;\n",
       "  /* unfitted */\n",
       "  background-color: var(--sklearn-color-unfitted-level-0);\n",
       "}\n",
       "\n",
       "#sk-container-id-1 div.sk-toggleable__content.fitted {\n",
       "  /* fitted */\n",
       "  background-color: var(--sklearn-color-fitted-level-0);\n",
       "}\n",
       "\n",
       "#sk-container-id-1 div.sk-toggleable__content pre {\n",
       "  margin: 0.2em;\n",
       "  border-radius: 0.25em;\n",
       "  color: var(--sklearn-color-text);\n",
       "  /* unfitted */\n",
       "  background-color: var(--sklearn-color-unfitted-level-0);\n",
       "}\n",
       "\n",
       "#sk-container-id-1 div.sk-toggleable__content.fitted pre {\n",
       "  /* unfitted */\n",
       "  background-color: var(--sklearn-color-fitted-level-0);\n",
       "}\n",
       "\n",
       "#sk-container-id-1 input.sk-toggleable__control:checked~div.sk-toggleable__content {\n",
       "  /* Expand drop-down */\n",
       "  display: block;\n",
       "  width: 100%;\n",
       "  overflow: visible;\n",
       "}\n",
       "\n",
       "#sk-container-id-1 input.sk-toggleable__control:checked~label.sk-toggleable__label-arrow:before {\n",
       "  content: \"▾\";\n",
       "}\n",
       "\n",
       "/* Pipeline/ColumnTransformer-specific style */\n",
       "\n",
       "#sk-container-id-1 div.sk-label input.sk-toggleable__control:checked~label.sk-toggleable__label {\n",
       "  color: var(--sklearn-color-text);\n",
       "  background-color: var(--sklearn-color-unfitted-level-2);\n",
       "}\n",
       "\n",
       "#sk-container-id-1 div.sk-label.fitted input.sk-toggleable__control:checked~label.sk-toggleable__label {\n",
       "  background-color: var(--sklearn-color-fitted-level-2);\n",
       "}\n",
       "\n",
       "/* Estimator-specific style */\n",
       "\n",
       "/* Colorize estimator box */\n",
       "#sk-container-id-1 div.sk-estimator input.sk-toggleable__control:checked~label.sk-toggleable__label {\n",
       "  /* unfitted */\n",
       "  background-color: var(--sklearn-color-unfitted-level-2);\n",
       "}\n",
       "\n",
       "#sk-container-id-1 div.sk-estimator.fitted input.sk-toggleable__control:checked~label.sk-toggleable__label {\n",
       "  /* fitted */\n",
       "  background-color: var(--sklearn-color-fitted-level-2);\n",
       "}\n",
       "\n",
       "#sk-container-id-1 div.sk-label label.sk-toggleable__label,\n",
       "#sk-container-id-1 div.sk-label label {\n",
       "  /* The background is the default theme color */\n",
       "  color: var(--sklearn-color-text-on-default-background);\n",
       "}\n",
       "\n",
       "/* On hover, darken the color of the background */\n",
       "#sk-container-id-1 div.sk-label:hover label.sk-toggleable__label {\n",
       "  color: var(--sklearn-color-text);\n",
       "  background-color: var(--sklearn-color-unfitted-level-2);\n",
       "}\n",
       "\n",
       "/* Label box, darken color on hover, fitted */\n",
       "#sk-container-id-1 div.sk-label.fitted:hover label.sk-toggleable__label.fitted {\n",
       "  color: var(--sklearn-color-text);\n",
       "  background-color: var(--sklearn-color-fitted-level-2);\n",
       "}\n",
       "\n",
       "/* Estimator label */\n",
       "\n",
       "#sk-container-id-1 div.sk-label label {\n",
       "  font-family: monospace;\n",
       "  font-weight: bold;\n",
       "  display: inline-block;\n",
       "  line-height: 1.2em;\n",
       "}\n",
       "\n",
       "#sk-container-id-1 div.sk-label-container {\n",
       "  text-align: center;\n",
       "}\n",
       "\n",
       "/* Estimator-specific */\n",
       "#sk-container-id-1 div.sk-estimator {\n",
       "  font-family: monospace;\n",
       "  border: 1px dotted var(--sklearn-color-border-box);\n",
       "  border-radius: 0.25em;\n",
       "  box-sizing: border-box;\n",
       "  margin-bottom: 0.5em;\n",
       "  /* unfitted */\n",
       "  background-color: var(--sklearn-color-unfitted-level-0);\n",
       "}\n",
       "\n",
       "#sk-container-id-1 div.sk-estimator.fitted {\n",
       "  /* fitted */\n",
       "  background-color: var(--sklearn-color-fitted-level-0);\n",
       "}\n",
       "\n",
       "/* on hover */\n",
       "#sk-container-id-1 div.sk-estimator:hover {\n",
       "  /* unfitted */\n",
       "  background-color: var(--sklearn-color-unfitted-level-2);\n",
       "}\n",
       "\n",
       "#sk-container-id-1 div.sk-estimator.fitted:hover {\n",
       "  /* fitted */\n",
       "  background-color: var(--sklearn-color-fitted-level-2);\n",
       "}\n",
       "\n",
       "/* Specification for estimator info (e.g. \"i\" and \"?\") */\n",
       "\n",
       "/* Common style for \"i\" and \"?\" */\n",
       "\n",
       ".sk-estimator-doc-link,\n",
       "a:link.sk-estimator-doc-link,\n",
       "a:visited.sk-estimator-doc-link {\n",
       "  float: right;\n",
       "  font-size: smaller;\n",
       "  line-height: 1em;\n",
       "  font-family: monospace;\n",
       "  background-color: var(--sklearn-color-background);\n",
       "  border-radius: 1em;\n",
       "  height: 1em;\n",
       "  width: 1em;\n",
       "  text-decoration: none !important;\n",
       "  margin-left: 0.5em;\n",
       "  text-align: center;\n",
       "  /* unfitted */\n",
       "  border: var(--sklearn-color-unfitted-level-1) 1pt solid;\n",
       "  color: var(--sklearn-color-unfitted-level-1);\n",
       "}\n",
       "\n",
       ".sk-estimator-doc-link.fitted,\n",
       "a:link.sk-estimator-doc-link.fitted,\n",
       "a:visited.sk-estimator-doc-link.fitted {\n",
       "  /* fitted */\n",
       "  border: var(--sklearn-color-fitted-level-1) 1pt solid;\n",
       "  color: var(--sklearn-color-fitted-level-1);\n",
       "}\n",
       "\n",
       "/* On hover */\n",
       "div.sk-estimator:hover .sk-estimator-doc-link:hover,\n",
       ".sk-estimator-doc-link:hover,\n",
       "div.sk-label-container:hover .sk-estimator-doc-link:hover,\n",
       ".sk-estimator-doc-link:hover {\n",
       "  /* unfitted */\n",
       "  background-color: var(--sklearn-color-unfitted-level-3);\n",
       "  color: var(--sklearn-color-background);\n",
       "  text-decoration: none;\n",
       "}\n",
       "\n",
       "div.sk-estimator.fitted:hover .sk-estimator-doc-link.fitted:hover,\n",
       ".sk-estimator-doc-link.fitted:hover,\n",
       "div.sk-label-container:hover .sk-estimator-doc-link.fitted:hover,\n",
       ".sk-estimator-doc-link.fitted:hover {\n",
       "  /* fitted */\n",
       "  background-color: var(--sklearn-color-fitted-level-3);\n",
       "  color: var(--sklearn-color-background);\n",
       "  text-decoration: none;\n",
       "}\n",
       "\n",
       "/* Span, style for the box shown on hovering the info icon */\n",
       ".sk-estimator-doc-link span {\n",
       "  display: none;\n",
       "  z-index: 9999;\n",
       "  position: relative;\n",
       "  font-weight: normal;\n",
       "  right: .2ex;\n",
       "  padding: .5ex;\n",
       "  margin: .5ex;\n",
       "  width: min-content;\n",
       "  min-width: 20ex;\n",
       "  max-width: 50ex;\n",
       "  color: var(--sklearn-color-text);\n",
       "  box-shadow: 2pt 2pt 4pt #999;\n",
       "  /* unfitted */\n",
       "  background: var(--sklearn-color-unfitted-level-0);\n",
       "  border: .5pt solid var(--sklearn-color-unfitted-level-3);\n",
       "}\n",
       "\n",
       ".sk-estimator-doc-link.fitted span {\n",
       "  /* fitted */\n",
       "  background: var(--sklearn-color-fitted-level-0);\n",
       "  border: var(--sklearn-color-fitted-level-3);\n",
       "}\n",
       "\n",
       ".sk-estimator-doc-link:hover span {\n",
       "  display: block;\n",
       "}\n",
       "\n",
       "/* \"?\"-specific style due to the `<a>` HTML tag */\n",
       "\n",
       "#sk-container-id-1 a.estimator_doc_link {\n",
       "  float: right;\n",
       "  font-size: 1rem;\n",
       "  line-height: 1em;\n",
       "  font-family: monospace;\n",
       "  background-color: var(--sklearn-color-background);\n",
       "  border-radius: 1rem;\n",
       "  height: 1rem;\n",
       "  width: 1rem;\n",
       "  text-decoration: none;\n",
       "  /* unfitted */\n",
       "  color: var(--sklearn-color-unfitted-level-1);\n",
       "  border: var(--sklearn-color-unfitted-level-1) 1pt solid;\n",
       "}\n",
       "\n",
       "#sk-container-id-1 a.estimator_doc_link.fitted {\n",
       "  /* fitted */\n",
       "  border: var(--sklearn-color-fitted-level-1) 1pt solid;\n",
       "  color: var(--sklearn-color-fitted-level-1);\n",
       "}\n",
       "\n",
       "/* On hover */\n",
       "#sk-container-id-1 a.estimator_doc_link:hover {\n",
       "  /* unfitted */\n",
       "  background-color: var(--sklearn-color-unfitted-level-3);\n",
       "  color: var(--sklearn-color-background);\n",
       "  text-decoration: none;\n",
       "}\n",
       "\n",
       "#sk-container-id-1 a.estimator_doc_link.fitted:hover {\n",
       "  /* fitted */\n",
       "  background-color: var(--sklearn-color-fitted-level-3);\n",
       "}\n",
       "\n",
       ".estimator-table summary {\n",
       "    padding: .5rem;\n",
       "    font-family: monospace;\n",
       "    cursor: pointer;\n",
       "}\n",
       "\n",
       ".estimator-table details[open] {\n",
       "    padding-left: 0.1rem;\n",
       "    padding-right: 0.1rem;\n",
       "    padding-bottom: 0.3rem;\n",
       "}\n",
       "\n",
       ".estimator-table .parameters-table {\n",
       "    margin-left: auto !important;\n",
       "    margin-right: auto !important;\n",
       "}\n",
       "\n",
       ".estimator-table .parameters-table tr:nth-child(odd) {\n",
       "    background-color: #fff;\n",
       "}\n",
       "\n",
       ".estimator-table .parameters-table tr:nth-child(even) {\n",
       "    background-color: #f6f6f6;\n",
       "}\n",
       "\n",
       ".estimator-table .parameters-table tr:hover {\n",
       "    background-color: #e0e0e0;\n",
       "}\n",
       "\n",
       ".estimator-table table td {\n",
       "    border: 1px solid rgba(106, 105, 104, 0.232);\n",
       "}\n",
       "\n",
       ".user-set td {\n",
       "    color:rgb(255, 94, 0);\n",
       "    text-align: left;\n",
       "}\n",
       "\n",
       ".user-set td.value pre {\n",
       "    color:rgb(255, 94, 0) !important;\n",
       "    background-color: transparent !important;\n",
       "}\n",
       "\n",
       ".default td {\n",
       "    color: black;\n",
       "    text-align: left;\n",
       "}\n",
       "\n",
       ".user-set td i,\n",
       ".default td i {\n",
       "    color: black;\n",
       "}\n",
       "\n",
       ".copy-paste-icon {\n",
       "    background-image: url(data:image/svg+xml;base64,PHN2ZyB4bWxucz0iaHR0cDovL3d3dy53My5vcmcvMjAwMC9zdmciIHZpZXdCb3g9IjAgMCA0NDggNTEyIj48IS0tIUZvbnQgQXdlc29tZSBGcmVlIDYuNy4yIGJ5IEBmb250YXdlc29tZSAtIGh0dHBzOi8vZm9udGF3ZXNvbWUuY29tIExpY2Vuc2UgLSBodHRwczovL2ZvbnRhd2Vzb21lLmNvbS9saWNlbnNlL2ZyZWUgQ29weXJpZ2h0IDIwMjUgRm9udGljb25zLCBJbmMuLS0+PHBhdGggZD0iTTIwOCAwTDMzMi4xIDBjMTIuNyAwIDI0LjkgNS4xIDMzLjkgMTQuMWw2Ny45IDY3LjljOSA5IDE0LjEgMjEuMiAxNC4xIDMzLjlMNDQ4IDMzNmMwIDI2LjUtMjEuNSA0OC00OCA0OGwtMTkyIDBjLTI2LjUgMC00OC0yMS41LTQ4LTQ4bDAtMjg4YzAtMjYuNSAyMS41LTQ4IDQ4LTQ4ek00OCAxMjhsODAgMCAwIDY0LTY0IDAgMCAyNTYgMTkyIDAgMC0zMiA2NCAwIDAgNDhjMCAyNi41LTIxLjUgNDgtNDggNDhMNDggNTEyYy0yNi41IDAtNDgtMjEuNS00OC00OEwwIDE3NmMwLTI2LjUgMjEuNS00OCA0OC00OHoiLz48L3N2Zz4=);\n",
       "    background-repeat: no-repeat;\n",
       "    background-size: 14px 14px;\n",
       "    background-position: 0;\n",
       "    display: inline-block;\n",
       "    width: 14px;\n",
       "    height: 14px;\n",
       "    cursor: pointer;\n",
       "}\n",
       "</style><body><div id=\"sk-container-id-1\" class=\"sk-top-container\"><div class=\"sk-text-repr-fallback\"><pre>KNeighborsClassifier(n_neighbors=9)</pre><b>In a Jupyter environment, please rerun this cell to show the HTML representation or trust the notebook. <br />On GitHub, the HTML representation is unable to render, please try loading this page with nbviewer.org.</b></div><div class=\"sk-container\" hidden><div class=\"sk-item\"><div class=\"sk-estimator fitted sk-toggleable\"><input class=\"sk-toggleable__control sk-hidden--visually\" id=\"sk-estimator-id-1\" type=\"checkbox\" checked><label for=\"sk-estimator-id-1\" class=\"sk-toggleable__label fitted sk-toggleable__label-arrow\"><div><div>KNeighborsClassifier</div></div><div><a class=\"sk-estimator-doc-link fitted\" rel=\"noreferrer\" target=\"_blank\" href=\"https://scikit-learn.org/1.7/modules/generated/sklearn.neighbors.KNeighborsClassifier.html\">?<span>Documentation for KNeighborsClassifier</span></a><span class=\"sk-estimator-doc-link fitted\">i<span>Fitted</span></span></div></label><div class=\"sk-toggleable__content fitted\" data-param-prefix=\"\">\n",
       "        <div class=\"estimator-table\">\n",
       "            <details>\n",
       "                <summary>Parameters</summary>\n",
       "                <table class=\"parameters-table\">\n",
       "                  <tbody>\n",
       "                    \n",
       "        <tr class=\"user-set\">\n",
       "            <td><i class=\"copy-paste-icon\"\n",
       "                 onclick=\"copyToClipboard('n_neighbors',\n",
       "                          this.parentElement.nextElementSibling)\"\n",
       "            ></i></td>\n",
       "            <td class=\"param\">n_neighbors&nbsp;</td>\n",
       "            <td class=\"value\">9</td>\n",
       "        </tr>\n",
       "    \n",
       "\n",
       "        <tr class=\"default\">\n",
       "            <td><i class=\"copy-paste-icon\"\n",
       "                 onclick=\"copyToClipboard('weights',\n",
       "                          this.parentElement.nextElementSibling)\"\n",
       "            ></i></td>\n",
       "            <td class=\"param\">weights&nbsp;</td>\n",
       "            <td class=\"value\">&#x27;uniform&#x27;</td>\n",
       "        </tr>\n",
       "    \n",
       "\n",
       "        <tr class=\"default\">\n",
       "            <td><i class=\"copy-paste-icon\"\n",
       "                 onclick=\"copyToClipboard('algorithm',\n",
       "                          this.parentElement.nextElementSibling)\"\n",
       "            ></i></td>\n",
       "            <td class=\"param\">algorithm&nbsp;</td>\n",
       "            <td class=\"value\">&#x27;auto&#x27;</td>\n",
       "        </tr>\n",
       "    \n",
       "\n",
       "        <tr class=\"default\">\n",
       "            <td><i class=\"copy-paste-icon\"\n",
       "                 onclick=\"copyToClipboard('leaf_size',\n",
       "                          this.parentElement.nextElementSibling)\"\n",
       "            ></i></td>\n",
       "            <td class=\"param\">leaf_size&nbsp;</td>\n",
       "            <td class=\"value\">30</td>\n",
       "        </tr>\n",
       "    \n",
       "\n",
       "        <tr class=\"default\">\n",
       "            <td><i class=\"copy-paste-icon\"\n",
       "                 onclick=\"copyToClipboard('p',\n",
       "                          this.parentElement.nextElementSibling)\"\n",
       "            ></i></td>\n",
       "            <td class=\"param\">p&nbsp;</td>\n",
       "            <td class=\"value\">2</td>\n",
       "        </tr>\n",
       "    \n",
       "\n",
       "        <tr class=\"default\">\n",
       "            <td><i class=\"copy-paste-icon\"\n",
       "                 onclick=\"copyToClipboard('metric',\n",
       "                          this.parentElement.nextElementSibling)\"\n",
       "            ></i></td>\n",
       "            <td class=\"param\">metric&nbsp;</td>\n",
       "            <td class=\"value\">&#x27;minkowski&#x27;</td>\n",
       "        </tr>\n",
       "    \n",
       "\n",
       "        <tr class=\"default\">\n",
       "            <td><i class=\"copy-paste-icon\"\n",
       "                 onclick=\"copyToClipboard('metric_params',\n",
       "                          this.parentElement.nextElementSibling)\"\n",
       "            ></i></td>\n",
       "            <td class=\"param\">metric_params&nbsp;</td>\n",
       "            <td class=\"value\">None</td>\n",
       "        </tr>\n",
       "    \n",
       "\n",
       "        <tr class=\"default\">\n",
       "            <td><i class=\"copy-paste-icon\"\n",
       "                 onclick=\"copyToClipboard('n_jobs',\n",
       "                          this.parentElement.nextElementSibling)\"\n",
       "            ></i></td>\n",
       "            <td class=\"param\">n_jobs&nbsp;</td>\n",
       "            <td class=\"value\">None</td>\n",
       "        </tr>\n",
       "    \n",
       "                  </tbody>\n",
       "                </table>\n",
       "            </details>\n",
       "        </div>\n",
       "    </div></div></div></div></div><script>function copyToClipboard(text, element) {\n",
       "    // Get the parameter prefix from the closest toggleable content\n",
       "    const toggleableContent = element.closest('.sk-toggleable__content');\n",
       "    const paramPrefix = toggleableContent ? toggleableContent.dataset.paramPrefix : '';\n",
       "    const fullParamName = paramPrefix ? `${paramPrefix}${text}` : text;\n",
       "\n",
       "    const originalStyle = element.style;\n",
       "    const computedStyle = window.getComputedStyle(element);\n",
       "    const originalWidth = computedStyle.width;\n",
       "    const originalHTML = element.innerHTML.replace('Copied!', '');\n",
       "\n",
       "    navigator.clipboard.writeText(fullParamName)\n",
       "        .then(() => {\n",
       "            element.style.width = originalWidth;\n",
       "            element.style.color = 'green';\n",
       "            element.innerHTML = \"Copied!\";\n",
       "\n",
       "            setTimeout(() => {\n",
       "                element.innerHTML = originalHTML;\n",
       "                element.style = originalStyle;\n",
       "            }, 2000);\n",
       "        })\n",
       "        .catch(err => {\n",
       "            console.error('Failed to copy:', err);\n",
       "            element.style.color = 'red';\n",
       "            element.innerHTML = \"Failed!\";\n",
       "            setTimeout(() => {\n",
       "                element.innerHTML = originalHTML;\n",
       "                element.style = originalStyle;\n",
       "            }, 2000);\n",
       "        });\n",
       "    return false;\n",
       "}\n",
       "\n",
       "document.querySelectorAll('.fa-regular.fa-copy').forEach(function(element) {\n",
       "    const toggleableContent = element.closest('.sk-toggleable__content');\n",
       "    const paramPrefix = toggleableContent ? toggleableContent.dataset.paramPrefix : '';\n",
       "    const paramName = element.parentElement.nextElementSibling.textContent.trim();\n",
       "    const fullParamName = paramPrefix ? `${paramPrefix}${paramName}` : paramName;\n",
       "\n",
       "    element.setAttribute('title', fullParamName);\n",
       "});\n",
       "</script></body>"
      ],
      "text/plain": [
       "KNeighborsClassifier(n_neighbors=9)"
      ]
     },
     "execution_count": 27,
     "metadata": {},
     "output_type": "execute_result"
    }
   ],
   "source": [
    "import random\n",
    "random.seed(1984)   # kNN is a random algorithm, so we use `random.seed(x)` to make results repeatable\n",
    "\n",
    "X_train = train.drop(['signed up'], axis=1).values\n",
    "y_train = train['signed up'].values\n",
    "\n",
    "neigh = KNeighborsClassifier(n_neighbors=9)\n",
    "neigh.fit(X_train, y_train)"
   ]
  },
  {
   "cell_type": "code",
   "execution_count": 28,
   "id": "07eb18e3",
   "metadata": {},
   "outputs": [
    {
     "data": {
      "text/plain": [
       "0.8947971579188632"
      ]
     },
     "execution_count": 28,
     "metadata": {},
     "output_type": "execute_result"
    }
   ],
   "source": [
    "# now, we check the model's accuracy on the test data:\n",
    "\n",
    "X_test = test.drop(['signed up'], axis=1).values\n",
    "y_test = test['signed up'].values\n",
    "\n",
    "neigh.score(X_test, y_test)"
   ]
  },
  {
   "cell_type": "code",
   "execution_count": 29,
   "id": "4fb6b83a",
   "metadata": {},
   "outputs": [
    {
     "data": {
      "text/plain": [
       "0.8954847581939033"
      ]
     },
     "execution_count": 29,
     "metadata": {},
     "output_type": "execute_result"
    }
   ],
   "source": [
    "# now, we test the accuracy on our validation data.\n",
    "\n",
    "X_val = val.drop(['signed up'], axis=1).values\n",
    "y_val = val['signed up'].values\n",
    "\n",
    "neigh.score(X_val, y_val)"
   ]
  },
  {
   "cell_type": "code",
   "execution_count": 30,
   "id": "3fecf81a",
   "metadata": {},
   "outputs": [
    {
     "data": {
      "image/png": "[encoded data removed]",
      "text/plain": [
       "<Figure size 640x480 with 2 Axes>"
      ]
     },
     "metadata": {},
     "output_type": "display_data"
    }
   ],
   "source": [
    "# create a confusion matrix using ConfusionMatrixDisplay (plot_confusion_matrix was removed)\n",
    "from sklearn.metrics import ConfusionMatrixDisplay\n",
    "\n",
    "ConfusionMatrixDisplay.from_estimator(neigh, X_val, y_val, cmap='Blues')\n",
    "plt.show()"
   ]
  },
  {
   "cell_type": "markdown",
   "id": "490b0d35",
   "metadata": {},
   "source": [
    "*tip: use this link to change the color scheme of your confusion matrix: https://matplotlib.org/stable/tutorials/colors/colormaps.html*"
   ]
  },
  {
   "cell_type": "code",
   "execution_count": 31,
   "id": "da64bbc4",
   "metadata": {},
   "outputs": [],
   "source": [
    "# create classification report\n",
    "from sklearn.metrics import classification_report\n",
    "\n",
    "y_val_pred = neigh.predict(X_val)"
   ]
  },
  {
   "cell_type": "code",
   "execution_count": 32,
   "id": "9e077a60",
   "metadata": {},
   "outputs": [
    {
     "name": "stdout",
     "output_type": "stream",
     "text": [
      "              precision    recall  f1-score   support\n",
      "\n",
      "           0       0.98      0.91      0.94      8273\n",
      "           1       0.27      0.61      0.38       453\n",
      "\n",
      "    accuracy                           0.90      8726\n",
      "   macro avg       0.63      0.76      0.66      8726\n",
      "weighted avg       0.94      0.90      0.91      8726\n",
      "\n"
     ]
    }
   ],
   "source": [
    "print(classification_report(y_val_pred, y_val))\n",
    "\n",
    "# Precision = TP / (TP + FP)\n",
    "# - Of all instances the model predicted as positive, precision is the proportion that are actually positive.\n",
    "# - High precision means few false positives (predicted positive but actually negative).\n",
    "#\n",
    "# Recall (a.k.a. Sensitivity) = TP / (TP + FN)\n",
    "# - Of all actual positive instances, recall is the proportion the model correctly identified.\n",
    "# - High recall means few false negatives (actually positive but predicted negative).\n",
    "#\n",
    "# Key difference:\n",
    "# - Precision measures correctness of positive predictions; recall measures coverage of actual positives.\n",
    "# - There is often a trade-off: raising recall (catch more positives) can lower precision (more false alarms), and vice versa.\n",
    "#\n",
    "# When to prefer which:\n",
    "# - Prioritize precision when false positives are costly (e.g., spam filter blocking legitimate mail).\n",
    "# - Prioritize recall when false negatives are costly (e.g., disease screening missing sick patients).\n",
    "#\n",
    "# The F1 score combines both: F1 = 2 * (precision * recall) / (precision + recall), useful when you want a balance."
   ]
  },
  {
   "cell_type": "code",
   "execution_count": 33,
   "id": "e0fd03c1",
   "metadata": {},
   "outputs": [
    {
     "name": "stdout",
     "output_type": "stream",
     "text": [
      "0.929064039408867 0.9994812605368953\n"
     ]
    }
   ],
   "source": [
    "# we didn't get sensitivity and specificity, so we'll calculate that ourselves.\n",
    "sensitivity = 943/(943+72)   # = TP/(TP+FN)\n",
    "specificity = 7707/(7707+4)   # = TN/(TN+FP)\n",
    "print(sensitivity, specificity)"
   ]
  },
  {
   "cell_type": "markdown",
   "id": "c20f4ba5",
   "metadata": {},
   "source": [
    "#### Selecting the correct 'k'\n",
    "\n",
    "How does \"k\" affect classification accuracy? Let's create a function to calculate classification accuracy based on the number of \"k.\""
   ]
  },
  {
   "cell_type": "code",
   "execution_count": 34,
   "id": "c3045c90",
   "metadata": {},
   "outputs": [],
   "source": [
    "def chooseK(k, X_train, y_train, X_test, y_test):\n",
    "    random.seed(1)\n",
    "    print(\"calculating... \", k, \"k\")    # I'll include this so you can see the progress of the function as it runs\n",
    "    class_knn = KNeighborsClassifier(n_neighbors=k)\n",
    "    class_knn.fit(X_train, y_train)\n",
    "    \n",
    "    # calculate accuracy\n",
    "    accu = class_knn.score(X_test, y_test)\n",
    "    return accu"
   ]
  },
  {
   "cell_type": "markdown",
   "id": "cfc0f184",
   "metadata": {},
   "source": [
    "We'll test odd k values from 1 to 21. We want to create a table of all the data, so we'll use list comprehension to create the \"accuracy\" column. \n",
    "\n",
    "*remember: Python is end-exclusive; we want UP to 21 to we'll have to extend the end bound to include it*"
   ]
  },
  {
   "cell_type": "code",
   "execution_count": 35,
   "id": "93c859aa",
   "metadata": {},
   "outputs": [
    {
     "name": "stdout",
     "output_type": "stream",
     "text": [
      "calculating...  1 k\n",
      "calculating...  3 k\n",
      "calculating...  5 k\n",
      "calculating...  7 k\n",
      "calculating...  9 k\n",
      "calculating...  11 k\n",
      "calculating...  13 k\n",
      "calculating...  15 k\n",
      "calculating...  17 k\n",
      "calculating...  19 k\n",
      "calculating...  21 k\n"
     ]
    }
   ],
   "source": [
    "test = pd.DataFrame({'k':list(range(1,22,2)), \n",
    "                     'accu':[chooseK(x, X_train, y_train, X_test, y_test) for x in list(range(1, 22, 2))]})"
   ]
  },
  {
   "cell_type": "code",
   "execution_count": 36,
   "id": "03815cad",
   "metadata": {},
   "outputs": [
    {
     "data": {
      "text/html": [
       "<div>\n",
       "<style scoped>\n",
       "    .dataframe tbody tr th:only-of-type {\n",
       "        vertical-align: middle;\n",
       "    }\n",
       "\n",
       "    .dataframe tbody tr th {\n",
       "        vertical-align: top;\n",
       "    }\n",
       "\n",
       "    .dataframe thead th {\n",
       "        text-align: right;\n",
       "    }\n",
       "</style>\n",
       "<table border=\"1\" class=\"dataframe\">\n",
       "  <thead>\n",
       "    <tr style=\"text-align: right;\">\n",
       "      <th></th>\n",
       "      <th>k</th>\n",
       "      <th>accu</th>\n",
       "    </tr>\n",
       "  </thead>\n",
       "  <tbody>\n",
       "    <tr>\n",
       "      <th>0</th>\n",
       "      <td>1</td>\n",
       "      <td>0.865230</td>\n",
       "    </tr>\n",
       "    <tr>\n",
       "      <th>1</th>\n",
       "      <td>3</td>\n",
       "      <td>0.888494</td>\n",
       "    </tr>\n",
       "    <tr>\n",
       "      <th>2</th>\n",
       "      <td>5</td>\n",
       "      <td>0.891932</td>\n",
       "    </tr>\n",
       "    <tr>\n",
       "      <th>3</th>\n",
       "      <td>7</td>\n",
       "      <td>0.894683</td>\n",
       "    </tr>\n",
       "    <tr>\n",
       "      <th>4</th>\n",
       "      <td>9</td>\n",
       "      <td>0.894797</td>\n",
       "    </tr>\n",
       "    <tr>\n",
       "      <th>5</th>\n",
       "      <td>11</td>\n",
       "      <td>0.895026</td>\n",
       "    </tr>\n",
       "    <tr>\n",
       "      <th>6</th>\n",
       "      <td>13</td>\n",
       "      <td>0.896516</td>\n",
       "    </tr>\n",
       "    <tr>\n",
       "      <th>7</th>\n",
       "      <td>15</td>\n",
       "      <td>0.896172</td>\n",
       "    </tr>\n",
       "    <tr>\n",
       "      <th>8</th>\n",
       "      <td>17</td>\n",
       "      <td>0.896172</td>\n",
       "    </tr>\n",
       "    <tr>\n",
       "      <th>9</th>\n",
       "      <td>19</td>\n",
       "      <td>0.897089</td>\n",
       "    </tr>\n",
       "    <tr>\n",
       "      <th>10</th>\n",
       "      <td>21</td>\n",
       "      <td>0.896058</td>\n",
       "    </tr>\n",
       "  </tbody>\n",
       "</table>\n",
       "</div>"
      ],
      "text/plain": [
       "     k      accu\n",
       "0    1  0.865230\n",
       "1    3  0.888494\n",
       "2    5  0.891932\n",
       "3    7  0.894683\n",
       "4    9  0.894797\n",
       "5   11  0.895026\n",
       "6   13  0.896516\n",
       "7   15  0.896172\n",
       "8   17  0.896172\n",
       "9   19  0.897089\n",
       "10  21  0.896058"
      ]
     },
     "execution_count": 36,
     "metadata": {},
     "output_type": "execute_result"
    }
   ],
   "source": [
    "test"
   ]
  },
  {
   "cell_type": "code",
   "execution_count": 37,
   "id": "9658bcc7",
   "metadata": {},
   "outputs": [
    {
     "data": {
      "text/html": [
       "<div>\n",
       "<style scoped>\n",
       "    .dataframe tbody tr th:only-of-type {\n",
       "        vertical-align: middle;\n",
       "    }\n",
       "\n",
       "    .dataframe tbody tr th {\n",
       "        vertical-align: top;\n",
       "    }\n",
       "\n",
       "    .dataframe thead th {\n",
       "        text-align: right;\n",
       "    }\n",
       "</style>\n",
       "<table border=\"1\" class=\"dataframe\">\n",
       "  <thead>\n",
       "    <tr style=\"text-align: right;\">\n",
       "      <th></th>\n",
       "      <th>k</th>\n",
       "      <th>accu</th>\n",
       "    </tr>\n",
       "  </thead>\n",
       "  <tbody>\n",
       "    <tr>\n",
       "      <th>9</th>\n",
       "      <td>19</td>\n",
       "      <td>0.897089</td>\n",
       "    </tr>\n",
       "    <tr>\n",
       "      <th>6</th>\n",
       "      <td>13</td>\n",
       "      <td>0.896516</td>\n",
       "    </tr>\n",
       "    <tr>\n",
       "      <th>7</th>\n",
       "      <td>15</td>\n",
       "      <td>0.896172</td>\n",
       "    </tr>\n",
       "    <tr>\n",
       "      <th>8</th>\n",
       "      <td>17</td>\n",
       "      <td>0.896172</td>\n",
       "    </tr>\n",
       "    <tr>\n",
       "      <th>10</th>\n",
       "      <td>21</td>\n",
       "      <td>0.896058</td>\n",
       "    </tr>\n",
       "    <tr>\n",
       "      <th>5</th>\n",
       "      <td>11</td>\n",
       "      <td>0.895026</td>\n",
       "    </tr>\n",
       "    <tr>\n",
       "      <th>4</th>\n",
       "      <td>9</td>\n",
       "      <td>0.894797</td>\n",
       "    </tr>\n",
       "    <tr>\n",
       "      <th>3</th>\n",
       "      <td>7</td>\n",
       "      <td>0.894683</td>\n",
       "    </tr>\n",
       "    <tr>\n",
       "      <th>2</th>\n",
       "      <td>5</td>\n",
       "      <td>0.891932</td>\n",
       "    </tr>\n",
       "    <tr>\n",
       "      <th>1</th>\n",
       "      <td>3</td>\n",
       "      <td>0.888494</td>\n",
       "    </tr>\n",
       "    <tr>\n",
       "      <th>0</th>\n",
       "      <td>1</td>\n",
       "      <td>0.865230</td>\n",
       "    </tr>\n",
       "  </tbody>\n",
       "</table>\n",
       "</div>"
      ],
      "text/plain": [
       "     k      accu\n",
       "9   19  0.897089\n",
       "6   13  0.896516\n",
       "7   15  0.896172\n",
       "8   17  0.896172\n",
       "10  21  0.896058\n",
       "5   11  0.895026\n",
       "4    9  0.894797\n",
       "3    7  0.894683\n",
       "2    5  0.891932\n",
       "1    3  0.888494\n",
       "0    1  0.865230"
      ]
     },
     "execution_count": 37,
     "metadata": {},
     "output_type": "execute_result"
    }
   ],
   "source": [
    "test = test.sort_values(by=['accu'], ascending=False)\n",
    "test"
   ]
  },
  {
   "cell_type": "markdown",
   "id": "80d23299",
   "metadata": {},
   "source": [
    "**From here, we see that the best value of k=1!**"
   ]
  },
  {
   "cell_type": "markdown",
   "id": "4da12071",
   "metadata": {},
   "source": [
    "Let's go through the code we wrote in a bit more detail, specifically regarding the DataFrame construction.\n",
    "\n",
    "For reference, here's the line of code we wrote:\n",
    "```\n",
    "test = pd.DataFrame({'k':list(range(1,22,2)), \n",
    "                     'accu':[chooseK(x, X_train, y_train, X_test, y_test) for x in list(range(1, 22, 2))]})\n",
    "```\n",
    "\n",
    "pandas DataFrames wrap around the Python dictionary data type, which is identifiable by the use of curly brackets ({}) and key-value pairs. The keys correspond to the column names (i.e. 'k' or 'accu') while the values are a list comprised of all the values we want to include. \n",
    "\n",
    "For 'k', we made a list of the range of numbers from 1 to 22 (end exclusive), selecting only every *other* value. This is done using the syntax: `range(first_val, end_val, by=?)`. Having no `by=` value means that we select every value in that range.\n",
    "\n",
    "For 'accu', we used <a href=https://www.w3schools.com/python/python_lists_comprehension.asp>list comprehension</a>, which boils down to being loop shorthand with the output being entered into a list. We could easily re-write the code as:\n",
    "\n",
    "```\n",
    "temp = []\n",
    "for x in list(range(1, 22, 2)):\n",
    "    temp.append(chooseK(x, X_train, y_train, X_test, y_test))\n",
    "```\n",
    "\n",
    "before adding the list to the DataFrame. Evidently, the list comprehension saves time and memory, which is why we used it earlier."
   ]
  },
  {
   "cell_type": "markdown",
   "id": "658dcba6",
   "metadata": {},
   "source": [
    "#### Now, let's graph our results!"
   ]
  },
  {
   "cell_type": "code",
   "execution_count": 38,
   "id": "6d52977f",
   "metadata": {},
   "outputs": [
    {
     "data": {
      "image/png": "[encoded data removed]",
      "text/plain": [
       "<Figure size 640x480 with 1 Axes>"
      ]
     },
     "metadata": {},
     "output_type": "display_data"
    }
   ],
   "source": [
    "plt.plot(test['k'], test['accu'])\n",
    "plt.xlabel('k')\n",
    "plt.ylabel('Accuracy')\n",
    "plt.title('Model Accuracy')\n",
    "plt.show()"
   ]
  },
  {
   "cell_type": "markdown",
   "id": "12ee0cf5",
   "metadata": {},
   "source": [
    "## Adjusting the threshold"
   ]
  },
  {
   "cell_type": "code",
   "execution_count": 39,
   "id": "bd8da990",
   "metadata": {},
   "outputs": [],
   "source": [
    "# we want to make a table containing: probability, expected, and actual values\n",
    "\n",
    "test_probs = neigh.predict_proba(X_test)\n",
    "test_preds = neigh.predict(X_test)"
   ]
  },
  {
   "cell_type": "code",
   "execution_count": 40,
   "id": "f1d079b5",
   "metadata": {},
   "outputs": [
    {
     "data": {
      "text/html": [
       "<div>\n",
       "<style scoped>\n",
       "    .dataframe tbody tr th:only-of-type {\n",
       "        vertical-align: middle;\n",
       "    }\n",
       "\n",
       "    .dataframe tbody tr th {\n",
       "        vertical-align: top;\n",
       "    }\n",
       "\n",
       "    .dataframe thead th {\n",
       "        text-align: right;\n",
       "    }\n",
       "</style>\n",
       "<table border=\"1\" class=\"dataframe\">\n",
       "  <thead>\n",
       "    <tr style=\"text-align: right;\">\n",
       "      <th></th>\n",
       "      <th>not_signed_up_prob</th>\n",
       "      <th>signed_up_prob</th>\n",
       "    </tr>\n",
       "  </thead>\n",
       "  <tbody>\n",
       "    <tr>\n",
       "      <th>0</th>\n",
       "      <td>1.000000</td>\n",
       "      <td>0.000000</td>\n",
       "    </tr>\n",
       "    <tr>\n",
       "      <th>1</th>\n",
       "      <td>1.000000</td>\n",
       "      <td>0.000000</td>\n",
       "    </tr>\n",
       "    <tr>\n",
       "      <th>2</th>\n",
       "      <td>1.000000</td>\n",
       "      <td>0.000000</td>\n",
       "    </tr>\n",
       "    <tr>\n",
       "      <th>3</th>\n",
       "      <td>0.777778</td>\n",
       "      <td>0.222222</td>\n",
       "    </tr>\n",
       "    <tr>\n",
       "      <th>4</th>\n",
       "      <td>1.000000</td>\n",
       "      <td>0.000000</td>\n",
       "    </tr>\n",
       "    <tr>\n",
       "      <th>...</th>\n",
       "      <td>...</td>\n",
       "      <td>...</td>\n",
       "    </tr>\n",
       "    <tr>\n",
       "      <th>8721</th>\n",
       "      <td>1.000000</td>\n",
       "      <td>0.000000</td>\n",
       "    </tr>\n",
       "    <tr>\n",
       "      <th>8722</th>\n",
       "      <td>1.000000</td>\n",
       "      <td>0.000000</td>\n",
       "    </tr>\n",
       "    <tr>\n",
       "      <th>8723</th>\n",
       "      <td>0.666667</td>\n",
       "      <td>0.333333</td>\n",
       "    </tr>\n",
       "    <tr>\n",
       "      <th>8724</th>\n",
       "      <td>0.333333</td>\n",
       "      <td>0.666667</td>\n",
       "    </tr>\n",
       "    <tr>\n",
       "      <th>8725</th>\n",
       "      <td>0.777778</td>\n",
       "      <td>0.222222</td>\n",
       "    </tr>\n",
       "  </tbody>\n",
       "</table>\n",
       "<p>8726 rows × 2 columns</p>\n",
       "</div>"
      ],
      "text/plain": [
       "      not_signed_up_prob  signed_up_prob\n",
       "0               1.000000        0.000000\n",
       "1               1.000000        0.000000\n",
       "2               1.000000        0.000000\n",
       "3               0.777778        0.222222\n",
       "4               1.000000        0.000000\n",
       "...                  ...             ...\n",
       "8721            1.000000        0.000000\n",
       "8722            1.000000        0.000000\n",
       "8723            0.666667        0.333333\n",
       "8724            0.333333        0.666667\n",
       "8725            0.777778        0.222222\n",
       "\n",
       "[8726 rows x 2 columns]"
      ]
     },
     "execution_count": 40,
     "metadata": {},
     "output_type": "execute_result"
    }
   ],
   "source": [
    "# convert probabilities to pd df\n",
    "test_probabilities = pd.DataFrame(test_probs, columns = ['not_signed_up_prob', 'signed_up_prob'])\n",
    "test_probabilities"
   ]
  },
  {
   "cell_type": "code",
   "execution_count": 41,
   "id": "1a8df49d",
   "metadata": {},
   "outputs": [],
   "source": [
    "final_model = pd.DataFrame({'actual_class': y_test.tolist(),\n",
    "                           'pred_class': test_preds.tolist(),\n",
    "                           'pred_prob': [test_probabilities['signed_up_prob'][i] if test_preds[i]==1 else test_probabilities['not_signed_up_prob'][i] for i in range(len(test_preds))]})\n",
    "# that last line is some list comprehension -- to understand that here in particular click the following link:\n",
    "# https://stackoverflow.com/questions/4260280/if-else-in-a-list-comprehension"
   ]
  },
  {
   "cell_type": "code",
   "execution_count": 42,
   "id": "094554b3",
   "metadata": {},
   "outputs": [
    {
     "data": {
      "text/html": [
       "<div>\n",
       "<style scoped>\n",
       "    .dataframe tbody tr th:only-of-type {\n",
       "        vertical-align: middle;\n",
       "    }\n",
       "\n",
       "    .dataframe tbody tr th {\n",
       "        vertical-align: top;\n",
       "    }\n",
       "\n",
       "    .dataframe thead th {\n",
       "        text-align: right;\n",
       "    }\n",
       "</style>\n",
       "<table border=\"1\" class=\"dataframe\">\n",
       "  <thead>\n",
       "    <tr style=\"text-align: right;\">\n",
       "      <th></th>\n",
       "      <th>actual_class</th>\n",
       "      <th>pred_class</th>\n",
       "      <th>pred_prob</th>\n",
       "    </tr>\n",
       "  </thead>\n",
       "  <tbody>\n",
       "    <tr>\n",
       "      <th>0</th>\n",
       "      <td>0</td>\n",
       "      <td>0</td>\n",
       "      <td>1.000000</td>\n",
       "    </tr>\n",
       "    <tr>\n",
       "      <th>1</th>\n",
       "      <td>0</td>\n",
       "      <td>0</td>\n",
       "      <td>1.000000</td>\n",
       "    </tr>\n",
       "    <tr>\n",
       "      <th>2</th>\n",
       "      <td>0</td>\n",
       "      <td>0</td>\n",
       "      <td>1.000000</td>\n",
       "    </tr>\n",
       "    <tr>\n",
       "      <th>3</th>\n",
       "      <td>0</td>\n",
       "      <td>0</td>\n",
       "      <td>0.777778</td>\n",
       "    </tr>\n",
       "    <tr>\n",
       "      <th>4</th>\n",
       "      <td>0</td>\n",
       "      <td>0</td>\n",
       "      <td>1.000000</td>\n",
       "    </tr>\n",
       "  </tbody>\n",
       "</table>\n",
       "</div>"
      ],
      "text/plain": [
       "   actual_class  pred_class  pred_prob\n",
       "0             0           0   1.000000\n",
       "1             0           0   1.000000\n",
       "2             0           0   1.000000\n",
       "3             0           0   0.777778\n",
       "4             0           0   1.000000"
      ]
     },
     "execution_count": 42,
     "metadata": {},
     "output_type": "execute_result"
    }
   ],
   "source": [
    "final_model.head()"
   ]
  },
  {
   "cell_type": "code",
   "execution_count": 43,
   "id": "9e7983f2",
   "metadata": {},
   "outputs": [],
   "source": [
    "# add a column about the probability the observation is in the positive class\n",
    "final_model['pos_pred'] = [final_model.pred_prob[i] if final_model.pred_class[i]==1 else 1-final_model.pred_prob[i] for i in range(len(final_model.pred_class))]"
   ]
  },
  {
   "cell_type": "code",
   "execution_count": 44,
   "id": "d95b17eb",
   "metadata": {},
   "outputs": [
    {
     "data": {
      "text/html": [
       "<div>\n",
       "<style scoped>\n",
       "    .dataframe tbody tr th:only-of-type {\n",
       "        vertical-align: middle;\n",
       "    }\n",
       "\n",
       "    .dataframe tbody tr th {\n",
       "        vertical-align: top;\n",
       "    }\n",
       "\n",
       "    .dataframe thead th {\n",
       "        text-align: right;\n",
       "    }\n",
       "</style>\n",
       "<table border=\"1\" class=\"dataframe\">\n",
       "  <thead>\n",
       "    <tr style=\"text-align: right;\">\n",
       "      <th></th>\n",
       "      <th>actual_class</th>\n",
       "      <th>pred_class</th>\n",
       "      <th>pred_prob</th>\n",
       "      <th>pos_pred</th>\n",
       "    </tr>\n",
       "  </thead>\n",
       "  <tbody>\n",
       "    <tr>\n",
       "      <th>0</th>\n",
       "      <td>0</td>\n",
       "      <td>0</td>\n",
       "      <td>1.000000</td>\n",
       "      <td>0.000000</td>\n",
       "    </tr>\n",
       "    <tr>\n",
       "      <th>1</th>\n",
       "      <td>0</td>\n",
       "      <td>0</td>\n",
       "      <td>1.000000</td>\n",
       "      <td>0.000000</td>\n",
       "    </tr>\n",
       "    <tr>\n",
       "      <th>2</th>\n",
       "      <td>0</td>\n",
       "      <td>0</td>\n",
       "      <td>1.000000</td>\n",
       "      <td>0.000000</td>\n",
       "    </tr>\n",
       "    <tr>\n",
       "      <th>3</th>\n",
       "      <td>0</td>\n",
       "      <td>0</td>\n",
       "      <td>0.777778</td>\n",
       "      <td>0.222222</td>\n",
       "    </tr>\n",
       "    <tr>\n",
       "      <th>4</th>\n",
       "      <td>0</td>\n",
       "      <td>0</td>\n",
       "      <td>1.000000</td>\n",
       "      <td>0.000000</td>\n",
       "    </tr>\n",
       "  </tbody>\n",
       "</table>\n",
       "</div>"
      ],
      "text/plain": [
       "   actual_class  pred_class  pred_prob  pos_pred\n",
       "0             0           0   1.000000  0.000000\n",
       "1             0           0   1.000000  0.000000\n",
       "2             0           0   1.000000  0.000000\n",
       "3             0           0   0.777778  0.222222\n",
       "4             0           0   1.000000  0.000000"
      ]
     },
     "execution_count": 44,
     "metadata": {},
     "output_type": "execute_result"
    }
   ],
   "source": [
    "final_model.head()"
   ]
  },
  {
   "cell_type": "code",
   "execution_count": 45,
   "id": "2a74b115",
   "metadata": {},
   "outputs": [],
   "source": [
    "# convert classes to categories\n",
    "final_model.actual_class = final_model.actual_class.astype('category')\n",
    "final_model.pred_class = final_model.pred_class.astype('category')"
   ]
  },
  {
   "cell_type": "code",
   "execution_count": 46,
   "id": "a3603d15",
   "metadata": {},
   "outputs": [
    {
     "data": {
      "text/plain": [
       "<seaborn.axisgrid.FacetGrid at 0x704d856abce0>"
      ]
     },
     "execution_count": 46,
     "metadata": {},
     "output_type": "execute_result"
    },
    {
     "data": {
      "image/png": "[encoded data removed]",
      "text/plain": [
       "<Figure size 500x500 with 1 Axes>"
      ]
     },
     "metadata": {},
     "output_type": "display_data"
    }
   ],
   "source": [
    "# create probability distribution graph\n",
    "import seaborn as sns\n",
    "\n",
    "sns.displot(final_model, x=\"pos_pred\", kind=\"kde\")"
   ]
  },
  {
   "cell_type": "code",
   "execution_count": 47,
   "id": "6f4a0196",
   "metadata": {},
   "outputs": [
    {
     "data": {
      "text/plain": [
       "pos_pred\n",
       "0.000000    5387\n",
       "0.111111    1565\n",
       "0.222222     725\n",
       "0.333333     382\n",
       "0.444444     224\n",
       "0.555556     188\n",
       "0.666667     128\n",
       "0.777778      82\n",
       "0.888889      36\n",
       "1.000000       9\n",
       "Name: count, dtype: int64"
      ]
     },
     "execution_count": 47,
     "metadata": {},
     "output_type": "execute_result"
    }
   ],
   "source": [
    "final_model.pos_pred.value_counts()"
   ]
  },
  {
   "cell_type": "markdown",
   "id": "a7b8e4f2",
   "metadata": {},
   "source": [
    "In most datasets, the probabilities range between 0 and 1, causing uncertain predictions. A threshold must be set for where you consider the prediction to actually be a part of the positive class. Is a 60% certainty positive? How about 40%? This is where you have more control over your model's classifications. **This is especially useful for reducing incorrect classifications that you may have noticed in your confusion matrix.**"
   ]
  },
  {
   "cell_type": "code",
   "execution_count": 48,
   "id": "92659fd4",
   "metadata": {},
   "outputs": [],
   "source": [
    "from sklearn.metrics import confusion_matrix\n",
    "\n",
    "def adjust_thres(x, y, z):\n",
    "    \"\"\"\n",
    "    x=pred_probabilities\n",
    "    y=threshold\n",
    "    z=tune_outcome\n",
    "    \"\"\"\n",
    "    thres = pd.DataFrame({'new_preds': [1 if i > y else 0 for i in x]})\n",
    "    thres.new_preds = thres.new_preds.astype('category')\n",
    "    con_mat = confusion_matrix(z, thres)  \n",
    "    print(con_mat)"
   ]
  },
  {
   "cell_type": "code",
   "execution_count": 49,
   "id": "5f70b9aa",
   "metadata": {},
   "outputs": [
    {
     "data": {
      "text/plain": [
       "array([[7538,  173],\n",
       "       [ 745,  270]])"
      ]
     },
     "execution_count": 49,
     "metadata": {},
     "output_type": "execute_result"
    }
   ],
   "source": [
    "confusion_matrix(final_model.actual_class, final_model.pred_class)   # original model"
   ]
  },
  {
   "cell_type": "code",
   "execution_count": 50,
   "id": "6d6e15c9",
   "metadata": {},
   "outputs": [
    {
     "name": "stdout",
     "output_type": "stream",
     "text": [
      "[[7710    1]\n",
      " [1007    8]]\n"
     ]
    }
   ],
   "source": [
    "adjust_thres(final_model.pos_pred, .90, final_model.actual_class)   # raise threshold "
   ]
  },
  {
   "cell_type": "code",
   "execution_count": 51,
   "id": "67a94738",
   "metadata": {},
   "outputs": [
    {
     "name": "stdout",
     "output_type": "stream",
     "text": [
      "[[7172  539]\n",
      " [ 505  510]]\n"
     ]
    }
   ],
   "source": [
    "adjust_thres(final_model.pos_pred, .3, final_model.actual_class)   # lower threshold"
   ]
  },
  {
   "cell_type": "markdown",
   "id": "136e7ac3",
   "metadata": {},
   "source": [
    "## More for next week: evaluation metrics"
   ]
  },
  {
   "cell_type": "markdown",
   "id": "e695fbbb",
   "metadata": {},
   "source": [
    "#### ROC/AUC curve\n",
    "There are a few really cool graphing options, so I'll show you a few. There are several packages in Python are interactive as well!"
   ]
  },
  {
   "cell_type": "code",
   "execution_count": 52,
   "id": "5aecc456",
   "metadata": {},
   "outputs": [
    {
     "data": {
      "image/png": "[encoded data removed]",
      "text/plain": [
       "<Figure size 640x480 with 1 Axes>"
      ]
     },
     "metadata": {},
     "output_type": "display_data"
    }
   ],
   "source": [
    "# basic graph\n",
    "from sklearn import metrics\n",
    "\n",
    "fpr, tpr, _ = metrics.roc_curve(y_test, final_model.pos_pred)\n",
    "auc = metrics.roc_auc_score(y_test, final_model.pos_pred)\n",
    "plt.plot(fpr,tpr,label=\"data 1, auc=\"+str(auc))\n",
    "plt.legend(loc=4)\n",
    "plt.show()"
   ]
  },
  {
   "cell_type": "code",
   "execution_count": 53,
   "id": "3ce1e24e",
   "metadata": {},
   "outputs": [
    {
     "name": "stdout",
     "output_type": "stream",
     "text": [
      "Requirement already satisfied: plot_metric in /usr/local/python/3.12.1/lib/python3.12/site-packages (0.0.6)\n",
      "Requirement already satisfied: scipy>=1.1.0 in /home/codespace/.local/lib/python3.12/site-packages (from plot_metric) (1.16.2)\n",
      "Requirement already satisfied: matplotlib>=3.0.2 in /home/codespace/.local/lib/python3.12/site-packages (from plot_metric) (3.10.7)\n",
      "Requirement already satisfied: colorlover>=0.3.0 in /usr/local/python/3.12.1/lib/python3.12/site-packages (from plot_metric) (0.3.0)\n",
      "Requirement already satisfied: pandas>=0.23.4 in /home/codespace/.local/lib/python3.12/site-packages (from plot_metric) (2.3.3)\n",
      "Requirement already satisfied: seaborn>=0.9.0 in /home/codespace/.local/lib/python3.12/site-packages (from plot_metric) (0.13.2)\n",
      "Requirement already satisfied: numpy>=1.15.4 in /home/codespace/.local/lib/python3.12/site-packages (from plot_metric) (2.3.3)\n",
      "Requirement already satisfied: scikit-learn>=0.21.2 in /home/codespace/.local/lib/python3.12/site-packages (from plot_metric) (1.7.0)\n",
      "Requirement already satisfied: contourpy>=1.0.1 in /home/codespace/.local/lib/python3.12/site-packages (from matplotlib>=3.0.2->plot_metric) (1.3.3)\n",
      "Requirement already satisfied: cycler>=0.10 in /home/codespace/.local/lib/python3.12/site-packages (from matplotlib>=3.0.2->plot_metric) (0.12.1)\n",
      "Requirement already satisfied: fonttools>=4.22.0 in /home/codespace/.local/lib/python3.12/site-packages (from matplotlib>=3.0.2->plot_metric) (4.60.1)\n",
      "Requirement already satisfied: kiwisolver>=1.3.1 in /home/codespace/.local/lib/python3.12/site-packages (from matplotlib>=3.0.2->plot_metric) (1.4.9)\n",
      "Requirement already satisfied: packaging>=20.0 in /home/codespace/.local/lib/python3.12/site-packages (from matplotlib>=3.0.2->plot_metric) (25.0)\n",
      "Requirement already satisfied: pillow>=8 in /home/codespace/.local/lib/python3.12/site-packages (from matplotlib>=3.0.2->plot_metric) (11.3.0)\n",
      "Requirement already satisfied: pyparsing>=3 in /home/codespace/.local/lib/python3.12/site-packages (from matplotlib>=3.0.2->plot_metric) (3.2.5)\n",
      "Requirement already satisfied: python-dateutil>=2.7 in /home/codespace/.local/lib/python3.12/site-packages (from matplotlib>=3.0.2->plot_metric) (2.9.0.post0)\n",
      "Requirement already satisfied: pytz>=2020.1 in /home/codespace/.local/lib/python3.12/site-packages (from pandas>=0.23.4->plot_metric) (2025.2)\n",
      "Requirement already satisfied: tzdata>=2022.7 in /home/codespace/.local/lib/python3.12/site-packages (from pandas>=0.23.4->plot_metric) (2025.2)\n",
      "Requirement already satisfied: six>=1.5 in /home/codespace/.local/lib/python3.12/site-packages (from python-dateutil>=2.7->matplotlib>=3.0.2->plot_metric) (1.17.0)\n",
      "Requirement already satisfied: joblib>=1.2.0 in /home/codespace/.local/lib/python3.12/site-packages (from scikit-learn>=0.21.2->plot_metric) (1.5.1)\n",
      "Requirement already satisfied: threadpoolctl>=3.1.0 in /home/codespace/.local/lib/python3.12/site-packages (from scikit-learn>=0.21.2->plot_metric) (3.6.0)\n",
      "\n",
      "\u001b[1m[\u001b[0m\u001b[34;49mnotice\u001b[0m\u001b[1;39;49m]\u001b[0m\u001b[39;49m A new release of pip is available: \u001b[0m\u001b[31;49m25.1.1\u001b[0m\u001b[39;49m -> \u001b[0m\u001b[32;49m25.3\u001b[0m\n",
      "\u001b[1m[\u001b[0m\u001b[34;49mnotice\u001b[0m\u001b[1;39;49m]\u001b[0m\u001b[39;49m To update, run: \u001b[0m\u001b[32;49mpython3 -m pip install --upgrade pip\u001b[0m\n"
     ]
    }
   ],
   "source": [
    "# installs dependency for next graph\n",
    "! pip install plot_metric"
   ]
  },
  {
   "cell_type": "code",
   "execution_count": 54,
   "id": "11cb9ef4",
   "metadata": {},
   "outputs": [
    {
     "ename": "ImportError",
     "evalue": "cannot import name 'interp' from 'scipy' (/home/codespace/.local/lib/python3.12/site-packages/scipy/__init__.py)",
     "output_type": "error",
     "traceback": [
      "\u001b[31m---------------------------------------------------------------------------\u001b[39m",
      "\u001b[31mImportError\u001b[39m                               Traceback (most recent call last)",
      "\u001b[36mCell\u001b[39m\u001b[36m \u001b[39m\u001b[32mIn[54]\u001b[39m\u001b[32m, line 3\u001b[39m\n\u001b[32m      1\u001b[39m \u001b[38;5;66;03m# a pretty cool one\u001b[39;00m\n\u001b[32m----> \u001b[39m\u001b[32m3\u001b[39m \u001b[38;5;28;01mfrom\u001b[39;00m\u001b[38;5;250m \u001b[39m\u001b[34;01mplot_metric\u001b[39;00m\u001b[34;01m.\u001b[39;00m\u001b[34;01mfunctions\u001b[39;00m\u001b[38;5;250m \u001b[39m\u001b[38;5;28;01mimport\u001b[39;00m BinaryClassification\n\u001b[32m      5\u001b[39m \u001b[38;5;66;03m# Visualisation with plot_metric\u001b[39;00m\n\u001b[32m      6\u001b[39m bc = BinaryClassification(y_test, final_model.pred_class, labels=[\u001b[33m\"\u001b[39m\u001b[33m0\u001b[39m\u001b[33m\"\u001b[39m, \u001b[33m\"\u001b[39m\u001b[33m1\u001b[39m\u001b[33m\"\u001b[39m])\n",
      "\u001b[36mFile \u001b[39m\u001b[32m/usr/local/python/3.12.1/lib/python3.12/site-packages/plot_metric/functions.py:3\u001b[39m\n\u001b[32m      1\u001b[39m \u001b[38;5;28;01mimport\u001b[39;00m\u001b[38;5;250m \u001b[39m\u001b[34;01mmatplotlib\u001b[39;00m\u001b[34;01m.\u001b[39;00m\u001b[34;01mpyplot\u001b[39;00m\u001b[38;5;250m \u001b[39m\u001b[38;5;28;01mas\u001b[39;00m\u001b[38;5;250m \u001b[39m\u001b[34;01mplt\u001b[39;00m\n\u001b[32m      2\u001b[39m \u001b[38;5;28;01mfrom\u001b[39;00m\u001b[38;5;250m \u001b[39m\u001b[34;01mnumpy\u001b[39;00m\u001b[38;5;250m \u001b[39m\u001b[38;5;28;01mimport\u001b[39;00m newaxis, arange, argmin, unique, concatenate, zeros_like, argmax, linspace\n\u001b[32m----> \u001b[39m\u001b[32m3\u001b[39m \u001b[38;5;28;01mfrom\u001b[39;00m\u001b[38;5;250m \u001b[39m\u001b[34;01mscipy\u001b[39;00m\u001b[38;5;250m \u001b[39m\u001b[38;5;28;01mimport\u001b[39;00m interp\n\u001b[32m      4\u001b[39m \u001b[38;5;28;01mfrom\u001b[39;00m\u001b[38;5;250m \u001b[39m\u001b[34;01msklearn\u001b[39;00m\u001b[34;01m.\u001b[39;00m\u001b[34;01mmetrics\u001b[39;00m\u001b[38;5;250m \u001b[39m\u001b[38;5;28;01mimport\u001b[39;00m confusion_matrix, precision_recall_curve, auc, roc_curve, average_precision_score\n\u001b[32m      5\u001b[39m \u001b[38;5;28;01mfrom\u001b[39;00m\u001b[38;5;250m \u001b[39m\u001b[34;01mitertools\u001b[39;00m\u001b[38;5;250m \u001b[39m\u001b[38;5;28;01mimport\u001b[39;00m product, cycle\n",
      "\u001b[31mImportError\u001b[39m: cannot import name 'interp' from 'scipy' (/home/codespace/.local/lib/python3.12/site-packages/scipy/__init__.py)"
     ]
    }
   ],
   "source": [
    "# a pretty cool one\n",
    "\n",
    "from plot_metric.functions import BinaryClassification\n",
    "\n",
    "# Visualisation with plot_metric\n",
    "bc = BinaryClassification(y_test, final_model.pred_class, labels=[\"0\", \"1\"])\n",
    "\n",
    "# Figures\n",
    "plt.figure(figsize=(5,5))\n",
    "bc.plot_roc_curve()\n",
    "plt.show()"
   ]
  },
  {
   "cell_type": "markdown",
   "id": "10b07f2f",
   "metadata": {},
   "source": [
    "#### F1 score"
   ]
  },
  {
   "cell_type": "code",
   "execution_count": 55,
   "id": "e03403b4",
   "metadata": {},
   "outputs": [
    {
     "data": {
      "text/plain": [
       "0.37037037037037035"
      ]
     },
     "execution_count": 55,
     "metadata": {},
     "output_type": "execute_result"
    }
   ],
   "source": [
    "metrics.f1_score(y_test, final_model.pred_class)"
   ]
  },
  {
   "cell_type": "markdown",
   "id": "cc6ae43d",
   "metadata": {},
   "source": [
    "#### LogLoss"
   ]
  },
  {
   "cell_type": "code",
   "execution_count": 56,
   "id": "4719c24b",
   "metadata": {},
   "outputs": [
    {
     "data": {
      "text/plain": [
       "3.7918947755225236"
      ]
     },
     "execution_count": 56,
     "metadata": {},
     "output_type": "execute_result"
    }
   ],
   "source": [
    "metrics.log_loss(y_test, final_model.pred_class)"
   ]
  },
  {
   "cell_type": "markdown",
   "id": "63e26e1c",
   "metadata": {},
   "source": [
    "## Another quick example"
   ]
  },
  {
   "cell_type": "code",
   "execution_count": 59,
   "id": "f01a638e",
   "metadata": {},
   "outputs": [
    {
     "ename": "ModuleNotFoundError",
     "evalue": "No module named 'pysetdata'",
     "output_type": "error",
     "traceback": [
      "\u001b[31m---------------------------------------------------------------------------\u001b[39m",
      "\u001b[31mModuleNotFoundError\u001b[39m                       Traceback (most recent call last)",
      "\u001b[36mCell\u001b[39m\u001b[36m \u001b[39m\u001b[32mIn[59]\u001b[39m\u001b[32m, line 1\u001b[39m\n\u001b[32m----> \u001b[39m\u001b[32m1\u001b[39m \u001b[38;5;28;01mfrom\u001b[39;00m\u001b[38;5;250m \u001b[39m\u001b[34;01mpysetdata\u001b[39;00m\u001b[38;5;250m \u001b[39m\u001b[38;5;28;01mimport\u001b[39;00m data\n\u001b[32m      3\u001b[39m iris = data(\u001b[33m\"\u001b[39m\u001b[33miris\u001b[39m\u001b[33m\"\u001b[39m)\n\u001b[32m      4\u001b[39m iris.info()\n",
      "\u001b[31mModuleNotFoundError\u001b[39m: No module named 'pysetdata'"
     ]
    }
   ],
   "source": [
    "from pysetdata import data\n",
    "\n",
    "iris = data(\"iris\")\n",
    "iris.info()"
   ]
  },
  {
   "cell_type": "code",
   "execution_count": 60,
   "id": "d9fbfc94",
   "metadata": {},
   "outputs": [
    {
     "ename": "NameError",
     "evalue": "name 'iris' is not defined",
     "output_type": "error",
     "traceback": [
      "\u001b[31m---------------------------------------------------------------------------\u001b[39m",
      "\u001b[31mNameError\u001b[39m                                 Traceback (most recent call last)",
      "\u001b[36mCell\u001b[39m\u001b[36m \u001b[39m\u001b[32mIn[60]\u001b[39m\u001b[32m, line 1\u001b[39m\n\u001b[32m----> \u001b[39m\u001b[32m1\u001b[39m \u001b[43miris\u001b[49m.describe()\n",
      "\u001b[31mNameError\u001b[39m: name 'iris' is not defined"
     ]
    }
   ],
   "source": [
    "iris.describe()"
   ]
  },
  {
   "cell_type": "code",
   "execution_count": 61,
   "id": "023be467",
   "metadata": {},
   "outputs": [
    {
     "ename": "NameError",
     "evalue": "name 'iris' is not defined",
     "output_type": "error",
     "traceback": [
      "\u001b[31m---------------------------------------------------------------------------\u001b[39m",
      "\u001b[31mNameError\u001b[39m                                 Traceback (most recent call last)",
      "\u001b[36mCell\u001b[39m\u001b[36m \u001b[39m\u001b[32mIn[61]\u001b[39m\u001b[32m, line 3\u001b[39m\n\u001b[32m      1\u001b[39m \u001b[38;5;28;01mfrom\u001b[39;00m\u001b[38;5;250m \u001b[39m\u001b[34;01msklearn\u001b[39;00m\u001b[34;01m.\u001b[39;00m\u001b[34;01mpreprocessing\u001b[39;00m\u001b[38;5;250m \u001b[39m\u001b[38;5;28;01mimport\u001b[39;00m scale\n\u001b[32m----> \u001b[39m\u001b[32m3\u001b[39m cols = \u001b[38;5;28mlist\u001b[39m(\u001b[43miris\u001b[49m.columns[:\u001b[32m4\u001b[39m])\n\u001b[32m      5\u001b[39m scaledIris = pd.DataFrame(scale(iris.iloc[:, :\u001b[32m4\u001b[39m]), index=iris.index, columns=cols)\n",
      "\u001b[31mNameError\u001b[39m: name 'iris' is not defined"
     ]
    }
   ],
   "source": [
    "from sklearn.preprocessing import scale\n",
    "\n",
    "cols = list(iris.columns[:4])\n",
    "\n",
    "scaledIris = pd.DataFrame(scale(iris.iloc[:, :4]), index=iris.index, columns=cols)"
   ]
  },
  {
   "cell_type": "code",
   "execution_count": 62,
   "id": "e242f325",
   "metadata": {},
   "outputs": [
    {
     "ename": "NameError",
     "evalue": "name 'scaledIris' is not defined",
     "output_type": "error",
     "traceback": [
      "\u001b[31m---------------------------------------------------------------------------\u001b[39m",
      "\u001b[31mNameError\u001b[39m                                 Traceback (most recent call last)",
      "\u001b[36mCell\u001b[39m\u001b[36m \u001b[39m\u001b[32mIn[62]\u001b[39m\u001b[32m, line 1\u001b[39m\n\u001b[32m----> \u001b[39m\u001b[32m1\u001b[39m \u001b[43mscaledIris\u001b[49m.info()\n",
      "\u001b[31mNameError\u001b[39m: name 'scaledIris' is not defined"
     ]
    }
   ],
   "source": [
    "scaledIris.info()"
   ]
  },
  {
   "cell_type": "code",
   "execution_count": null,
   "id": "5257315c",
   "metadata": {},
   "outputs": [],
   "source": [
    "scaledIris['Species'] = iris['Species']"
   ]
  },
  {
   "cell_type": "code",
   "execution_count": null,
   "id": "14e5f84e",
   "metadata": {},
   "outputs": [],
   "source": [
    "# split datasets\n",
    "irisTrain, irisTest = train_test_split(scaledIris,  test_size=0.4, stratify = scaledIris['Species']) \n",
    "irisTest, irisVal = train_test_split(irisTest, test_size=0.5, stratify = irisTest['Species'])"
   ]
  },
  {
   "cell_type": "code",
   "execution_count": null,
   "id": "78776939",
   "metadata": {},
   "outputs": [],
   "source": [
    "Xi_train = irisTrain.drop(['Species'], axis=1)\n",
    "yi_train = irisTrain['Species']\n",
    "\n",
    "Xi_test = irisTest.drop(['Species'], axis=1)\n",
    "yi_test = irisTest['Species']\n",
    "\n",
    "Xi_val = irisVal.drop(['Species'], axis=1)\n",
    "yi_val = irisVal['Species']"
   ]
  },
  {
   "cell_type": "code",
   "execution_count": null,
   "id": "527ba982",
   "metadata": {},
   "outputs": [],
   "source": [
    "iris_neigh = KNeighborsClassifier(n_neighbors=3)\n",
    "iris_neigh.fit(Xi_train, yi_train)"
   ]
  },
  {
   "cell_type": "code",
   "execution_count": null,
   "id": "f5d220d9",
   "metadata": {},
   "outputs": [],
   "source": [
    "iris_neigh.score(Xi_test, yi_test)"
   ]
  },
  {
   "cell_type": "code",
   "execution_count": null,
   "id": "89adaa44",
   "metadata": {},
   "outputs": [],
   "source": [
    "iris_neigh.score(Xi_val, yi_val)"
   ]
  },
  {
   "cell_type": "code",
   "execution_count": null,
   "id": "7ccfba0e",
   "metadata": {},
   "outputs": [],
   "source": [
    "plot_confusion_matrix(iris_neigh, Xi_val, yi_val, cmap='Blues')  \n",
    "plt.show()"
   ]
  },
  {
   "cell_type": "markdown",
   "id": "42993be4",
   "metadata": {},
   "source": [
    "## Example using 10-k cross-validation "
   ]
  },
  {
   "cell_type": "code",
   "execution_count": null,
   "id": "4810f392",
   "metadata": {},
   "outputs": [],
   "source": [
    "from sklearn.model_selection import RepeatedKFold\n",
    "\n",
    "rkf = RepeatedKFold(n_splits=10, n_repeats=3, random_state=12) \n",
    "\n",
    "X_si = scaledIris.drop(['Species'], axis=1)\n",
    "y_si = scaledIris['Species']"
   ]
  },
  {
   "cell_type": "code",
   "execution_count": null,
   "id": "b55ec07b",
   "metadata": {},
   "outputs": [],
   "source": [
    "from sklearn.model_selection import cross_val_score\n",
    "from sklearn.model_selection import GridSearchCV\n",
    "\n",
    "cv_neigh = KNeighborsClassifier(n_neighbors=3)   # create classifier\n",
    "scores = cross_val_score(cv_neigh, X_si, y_si, scoring='accuracy', cv=rkf, n_jobs=-1)   # do repeated cv\n",
    "\n",
    "print('Accuracy: %.3f (%.3f)' % (scores.mean(), scores.std()))"
   ]
  },
  {
   "cell_type": "code",
   "execution_count": null,
   "id": "97ed8531",
   "metadata": {},
   "outputs": [],
   "source": [
    "plt.plot(scores)"
   ]
  },
  {
   "cell_type": "code",
   "execution_count": null,
   "id": "d3bdd0a5",
   "metadata": {},
   "outputs": [],
   "source": [
    "# more complex version so you can create a graph for testing and training accuracy (not built into the previous version)\n",
    "\n",
    "#Split arrays or matrices into train and test subsets\n",
    "Xsi_train, Xsi_test, ysi_train, ysi_test = train_test_split(X_si, y_si, test_size=0.20) \n",
    "rcv_knn = KNeighborsClassifier(n_neighbors=6)\n",
    "rcv_knn.fit(Xsi_train, ysi_train)\n",
    "\n",
    "print(\"Preliminary model score:\")\n",
    "print(rcv_knn.score(Xsi_test, ysi_test))\n",
    "\n",
    "no_neighbors = np.arange(1, 9)\n",
    "train_accuracy = np.empty(len(no_neighbors))\n",
    "test_accuracy = np.empty(len(no_neighbors))\n",
    "\n",
    "for i, k in enumerate(no_neighbors):\n",
    "    # We instantiate the classifier\n",
    "    rcv_knn = KNeighborsClassifier(n_neighbors=k)\n",
    "    # Fit the classifier to the training data\n",
    "    rcv_knn.fit(Xsi_train, ysi_train)\n",
    "    \n",
    "    # Compute accuracy on the training set\n",
    "    train_accuracy[i] = rcv_knn.score(Xsi_train, ysi_train)\n",
    "\n",
    "    # Compute accuracy on the testing set\n",
    "    test_accuracy[i] = rcv_knn.score(Xsi_test, ysi_test)\n",
    "\n",
    "# Visualization of k values vs accuracy\n",
    "plt.title('k-NN: Varying Number of Neighbors')\n",
    "plt.plot(no_neighbors, test_accuracy, label = 'Testing Accuracy')\n",
    "plt.plot(no_neighbors, train_accuracy, label = 'Training Accuracy')\n",
    "plt.legend()\n",
    "plt.xlabel('Number of Neighbors')\n",
    "plt.ylabel('Accuracy')\n",
    "plt.show()"
   ]
  },
  {
   "cell_type": "markdown",
   "id": "b122ae79",
   "metadata": {},
   "source": [
    "### Variable importance"
   ]
  },
  {
   "cell_type": "markdown",
   "id": "197f9fd6",
   "metadata": {},
   "source": [
    "There is no easy way in SKLearn to calculate variable importance for a KNN model. So, we'll use a slightly hacked-together solution.\n",
    "\n",
    "Variable importance reflects the significance one variable has on the model. If a variable is more important, that variable being removed/permuted has a larger effect on the output of the model. So, if we check the changes such permutations have, we should be able to extract the feature importance."
   ]
  },
  {
   "cell_type": "code",
   "execution_count": null,
   "id": "52d7a064",
   "metadata": {},
   "outputs": [],
   "source": [
    "data = {'sepal_length': [0], 'sepal_width': [0], 'petal_length': [0], 'petal_width': [0]}\n",
    "feat_imp = pd.DataFrame(data)\n",
    "feat_imp.head()"
   ]
  },
  {
   "cell_type": "code",
   "execution_count": null,
   "id": "78d12968",
   "metadata": {},
   "outputs": [],
   "source": [
    "# baseline\n",
    "\n",
    "fin_knn = KNeighborsClassifier(n_neighbors=7)\n",
    "fin_knn.fit(Xsi_train, ysi_train)\n",
    "\n",
    "print(fin_knn.score(Xsi_test, ysi_test))\n",
    "plot_confusion_matrix(fin_knn, Xsi_test, ysi_test, cmap='Blues')  "
   ]
  },
  {
   "cell_type": "markdown",
   "id": "b859764b",
   "metadata": {},
   "source": [
    "#### change `Sepal.Length`"
   ]
  },
  {
   "cell_type": "code",
   "execution_count": null,
   "id": "623925fa",
   "metadata": {},
   "outputs": [],
   "source": [
    "Xsi_test.head()"
   ]
  },
  {
   "cell_type": "code",
   "execution_count": null,
   "id": "ce0234cd",
   "metadata": {},
   "outputs": [],
   "source": [
    "perm_SL = Xsi_test.copy()   # # copy df; we don't want to alter the actual data\n",
    "perm_SL['Sepal.Length'] = np.random.permutation(perm_SL['Sepal.Length'])   # permute data\n",
    "perm_SL.head()"
   ]
  },
  {
   "cell_type": "code",
   "execution_count": null,
   "id": "085f308d",
   "metadata": {},
   "outputs": [],
   "source": [
    "fin_knn.score(perm_SL, ysi_test)"
   ]
  },
  {
   "cell_type": "code",
   "execution_count": null,
   "id": "30984844",
   "metadata": {},
   "outputs": [],
   "source": [
    "feat_imp['sepal_length'] = fin_knn.score(Xsi_test, ysi_test) - fin_knn.score(perm_SL, ysi_test)\n",
    "feat_imp.head()"
   ]
  },
  {
   "cell_type": "code",
   "execution_count": null,
   "id": "afd4d162",
   "metadata": {},
   "outputs": [],
   "source": [
    "plot_confusion_matrix(fin_knn, perm_SL, ysi_test, cmap='Blues')  # what got misclassified?"
   ]
  },
  {
   "cell_type": "markdown",
   "id": "bfd79314",
   "metadata": {},
   "source": [
    "Instead of making this repetitive, we can turn this into a function and loop."
   ]
  },
  {
   "cell_type": "code",
   "execution_count": null,
   "id": "751e439a",
   "metadata": {},
   "outputs": [],
   "source": [
    "def featureImportance(X, y, model):\n",
    "    # create dataframe of variables\n",
    "    var_imp = pd.DataFrame(columns=list(X.columns))\n",
    "    var_imp.loc[0] = 0\n",
    "    base_score = model.score(X, y)\n",
    "    for col in list(X.columns):\n",
    "        temp = X.copy()   # # copy df; we don't want to alter the actual data\n",
    "        temp[col] = np.random.permutation(temp[col])   # permute data\n",
    "        var_imp[col] = base_score - model.score(temp, y)\n",
    "        # plot_confusion_matrix(model, temp, y, cmap='Blues')  # what got misclassified?\n",
    "    print(var_imp)"
   ]
  },
  {
   "cell_type": "code",
   "execution_count": null,
   "id": "10009cec",
   "metadata": {},
   "outputs": [],
   "source": [
    "featureImportance(Xsi_test, ysi_test, fin_knn)"
   ]
  },
  {
   "cell_type": "markdown",
   "id": "fe4473e8",
   "metadata": {},
   "source": [
    "From here, we find the important variables!"
   ]
  },
  {
   "cell_type": "markdown",
   "id": "0627126e",
   "metadata": {},
   "source": [
    "### General eval"
   ]
  },
  {
   "cell_type": "code",
   "execution_count": null,
   "id": "e1f41a55",
   "metadata": {},
   "outputs": [],
   "source": [
    "plot_confusion_matrix(fin_knn, Xsi_test, ysi_test, cmap='Blues')  "
   ]
  },
  {
   "cell_type": "markdown",
   "id": "859bbe13",
   "metadata": {},
   "source": [
    "Looks like we only misclassified one virginica as versicolor. Let's see how certain our predictions were."
   ]
  },
  {
   "cell_type": "code",
   "execution_count": null,
   "id": "63eef526",
   "metadata": {},
   "outputs": [],
   "source": [
    "iris2_probs = fin_knn.predict_proba(Xsi_test)\n",
    "iris2_probs"
   ]
  }
 ],
 "metadata": {
  "kernelspec": {
   "display_name": "Python 3",
   "language": "python",
   "name": "python3"
  },
  "language_info": {
   "codemirror_mode": {
    "name": "ipython",
    "version": 3
   },
   "file_extension": ".py",
   "mimetype": "text/x-python",
   "name": "python",
   "nbconvert_exporter": "python",
   "pygments_lexer": "ipython3",
   "version": "3.12.1"
  }
 },
 "nbformat": 4,
 "nbformat_minor": 5
}
