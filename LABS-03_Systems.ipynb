{
 "cells": [
  {
   "cell_type": "markdown",
   "id": "f11f3ba9",
   "metadata": {},
   "source": [
    "# LABS-3: Systems Project\n",
    "\n",
    "In this notebook you will run a few cells to ensure that your environment is properly set up.\n"
   ]
  },
  {
   "cell_type": "code",
   "execution_count": 1,
   "id": "9074b8b7",
   "metadata": {},
   "outputs": [
    {
     "name": "stdout",
     "output_type": "stream",
     "text": [
      "Hello, World!\n"
     ]
    }
   ],
   "source": [
    "## First cell\n",
    "# run this for step 11 in your instructions\n",
    "\n",
    "print(\"Hello, World!\")"
   ]
  },
  {
   "cell_type": "code",
   "execution_count": 2,
   "id": "4c242432",
   "metadata": {},
   "outputs": [],
   "source": [
    "## Second cell\n",
    "# run this for step 14 in your instructions\n",
    "\n",
    "import pandas as pd"
   ]
  },
  {
   "cell_type": "code",
   "execution_count": 4,
   "id": "bb9cb781",
   "metadata": {},
   "outputs": [
    {
     "name": "stdout",
     "output_type": "stream",
     "text": [
      "                         names       date_x  score  \\\n",
      "0                    Creed III  03/02/2023    73.0   \n",
      "1     Avatar: The Way of Water  12/15/2022    78.0   \n",
      "2  The Super Mario Bros. Movie  04/05/2023    76.0   \n",
      "3                      Mummies  01/05/2023    70.0   \n",
      "4                    Supercell  03/17/2023    61.0   \n",
      "\n",
      "                                           genre  \\\n",
      "0                                  Drama, Action   \n",
      "1             Science Fiction, Adventure, Action   \n",
      "2  Animation, Adventure, Family, Fantasy, Comedy   \n",
      "3  Animation, Comedy, Family, Adventure, Fantasy   \n",
      "4                                         Action   \n",
      "\n",
      "                                            overview  \\\n",
      "0  After dominating the boxing world, Adonis Cree...   \n",
      "1  Set more than a decade after the events of the...   \n",
      "2  While working underground to fix a water main,...   \n",
      "3  Through a series of unfortunate events, three ...   \n",
      "4  Good-hearted teenager William always lived in ...   \n",
      "\n",
      "                                                crew  \\\n",
      "0  Michael B. Jordan, Adonis Creed, Tessa Thompso...   \n",
      "1  Sam Worthington, Jake Sully, Zoe Saldaña, Neyt...   \n",
      "2  Chris Pratt, Mario (voice), Anya Taylor-Joy, P...   \n",
      "3  Óscar Barberán, Thut (voice), Ana Esther Albor...   \n",
      "4  Skeet Ulrich, Roy Cameron, Anne Heche, Dr Quin...   \n",
      "\n",
      "                    orig_title     status            orig_lang     budget_x  \\\n",
      "0                    Creed III   Released              English   75000000.0   \n",
      "1     Avatar: The Way of Water   Released              English  460000000.0   \n",
      "2  The Super Mario Bros. Movie   Released              English  100000000.0   \n",
      "3                       Momias   Released   Spanish, Castilian   12300000.0   \n",
      "4                    Supercell   Released              English   77000000.0   \n",
      "\n",
      "        revenue country  \n",
      "0  2.716167e+08      AU  \n",
      "1  2.316795e+09      AU  \n",
      "2  7.244590e+08      AU  \n",
      "3  3.420000e+07      AU  \n",
      "4  3.409420e+08      US  \n"
     ]
    }
   ],
   "source": [
    "## Part 3: Accessing your data\n",
    "# edit this code to load your data into your workspace\n",
    "\n",
    "data = pd.read_csv('data/imdb_movies.csv') #add your data file path to this line!\n",
    "print(data.head())"
   ]
  },
  {
   "cell_type": "code",
   "execution_count": null,
   "id": "ca63e2fd",
   "metadata": {},
   "outputs": [],
   "source": []
  }
 ],
 "metadata": {
  "kernelspec": {
   "display_name": "KadieCameron_env",
   "language": "python",
   "name": "python3"
  },
  "language_info": {
   "codemirror_mode": {
    "name": "ipython",
    "version": 3
   },
   "file_extension": ".py",
   "mimetype": "text/x-python",
   "name": "python",
   "nbconvert_exporter": "python",
   "pygments_lexer": "ipython3",
   "version": "3.12.1"
  }
 },
 "nbformat": 4,
 "nbformat_minor": 5
}
